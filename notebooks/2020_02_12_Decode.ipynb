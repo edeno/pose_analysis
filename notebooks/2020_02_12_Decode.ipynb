{
 "cells": [
  {
   "cell_type": "code",
   "execution_count": 1,
   "metadata": {},
   "outputs": [],
   "source": [
    "%matplotlib inline\n",
    "%reload_ext autoreload\n",
    "%autoreload 2\n",
    "%config InlineBackend.figure_format = 'retina'"
   ]
  },
  {
   "cell_type": "code",
   "execution_count": 2,
   "metadata": {},
   "outputs": [],
   "source": [
    "import matplotlib.pyplot as plt\n",
    "import numpy as np\n",
    "import xarray as xr\n",
    "import seaborn as sns\n",
    "import logging\n",
    "\n",
    "FORMAT = '%(asctime)s %(message)s'\n",
    "\n",
    "logging.basicConfig(level='INFO', format=FORMAT, datefmt='%d-%b-%y %H:%M:%S')\n",
    "sns.set_context(\"talk\")"
   ]
  },
  {
   "cell_type": "code",
   "execution_count": 3,
   "metadata": {},
   "outputs": [
    {
     "ename": "TypeError",
     "evalue": "iteration over a 0-d array",
     "output_type": "error",
     "traceback": [
      "\u001b[0;31m---------------------------------------------------------------------------\u001b[0m",
      "\u001b[0;31mTypeError\u001b[0m                                 Traceback (most recent call last)",
      "\u001b[0;32m<ipython-input-3-20fef05c67e4>\u001b[0m in \u001b[0;36m<module>\u001b[0;34m\u001b[0m\n\u001b[1;32m      3\u001b[0m \u001b[0mepoch_key\u001b[0m \u001b[0;34m=\u001b[0m \u001b[0;34m(\u001b[0m\u001b[0;34m'Jaq'\u001b[0m\u001b[0;34m,\u001b[0m \u001b[0;36m1\u001b[0m\u001b[0;34m,\u001b[0m \u001b[0;36m2\u001b[0m\u001b[0;34m)\u001b[0m \u001b[0;31m# animal, day, epoch\u001b[0m\u001b[0;34m\u001b[0m\u001b[0;34m\u001b[0m\u001b[0m\n\u001b[1;32m      4\u001b[0m \u001b[0;34m\u001b[0m\u001b[0m\n\u001b[0;32m----> 5\u001b[0;31m \u001b[0mdata\u001b[0m \u001b[0;34m=\u001b[0m \u001b[0mload_data\u001b[0m\u001b[0;34m(\u001b[0m\u001b[0mepoch_key\u001b[0m\u001b[0;34m)\u001b[0m\u001b[0;34m\u001b[0m\u001b[0;34m\u001b[0m\u001b[0m\n\u001b[0m",
      "\u001b[0;32m~/Src/pose_analysis/src/load_data.py\u001b[0m in \u001b[0;36mload_data\u001b[0;34m(epoch_key, position_to_linearize)\u001b[0m\n\u001b[1;32m     20\u001b[0m \u001b[0;32mdef\u001b[0m \u001b[0mload_data\u001b[0m\u001b[0;34m(\u001b[0m\u001b[0mepoch_key\u001b[0m\u001b[0;34m,\u001b[0m \u001b[0mposition_to_linearize\u001b[0m\u001b[0;34m=\u001b[0m\u001b[0;34m[\u001b[0m\u001b[0;34m'nose_x'\u001b[0m\u001b[0;34m,\u001b[0m \u001b[0;34m'nose_y'\u001b[0m\u001b[0;34m]\u001b[0m\u001b[0;34m)\u001b[0m\u001b[0;34m:\u001b[0m\u001b[0;34m\u001b[0m\u001b[0;34m\u001b[0m\u001b[0m\n\u001b[1;32m     21\u001b[0m     position_info = get_interpolated_position_info(\n\u001b[0;32m---> 22\u001b[0;31m         epoch_key, position_to_linearize)\n\u001b[0m\u001b[1;32m     23\u001b[0m     tetrode_info = make_tetrode_dataframe(\n\u001b[1;32m     24\u001b[0m         ANIMALS, epoch_key=epoch_key)\n",
      "\u001b[0;32m~/Src/pose_analysis/src/load_data.py\u001b[0m in \u001b[0;36mget_interpolated_position_info\u001b[0;34m(epoch_key, position_to_linearize, max_distance_from_well, min_distance_traveled, route_euclidean_distance_scaling, sensor_std_dev, diagonal_bias)\u001b[0m\n\u001b[1;32m    164\u001b[0m         \u001b[0medge_order\u001b[0m\u001b[0;34m=\u001b[0m\u001b[0mEDGE_ORDER\u001b[0m\u001b[0;34m,\u001b[0m \u001b[0medge_spacing\u001b[0m\u001b[0;34m=\u001b[0m\u001b[0mEDGE_SPACING\u001b[0m\u001b[0;34m,\u001b[0m\u001b[0;34m\u001b[0m\u001b[0;34m\u001b[0m\u001b[0m\n\u001b[1;32m    165\u001b[0m         \u001b[0mposition_to_linearize\u001b[0m\u001b[0;34m=\u001b[0m\u001b[0mposition_to_linearize\u001b[0m\u001b[0;34m,\u001b[0m\u001b[0;34m\u001b[0m\u001b[0;34m\u001b[0m\u001b[0m\n\u001b[0;32m--> 166\u001b[0;31m         position_sampling_frequency=500)\n\u001b[0m\u001b[1;32m    167\u001b[0m \u001b[0;34m\u001b[0m\u001b[0m\n\u001b[1;32m    168\u001b[0m     \u001b[0;32mreturn\u001b[0m \u001b[0mposition_info\u001b[0m\u001b[0;34m\u001b[0m\u001b[0;34m\u001b[0m\u001b[0m\n",
      "\u001b[0;32m~/Src/pose_analysis/src/load_data.py\u001b[0m in \u001b[0;36m_get_linear_position_hmm\u001b[0;34m(epoch_key, animals, position_df, max_distance_from_well, route_euclidean_distance_scaling, min_distance_traveled, sensor_std_dev, diagonal_bias, edge_order, edge_spacing, position_to_linearize, position_sampling_frequency)\u001b[0m\n\u001b[1;32m    109\u001b[0m     segments_df, labeled_segments = get_segments_df(\n\u001b[1;32m    110\u001b[0m         \u001b[0mepoch_key\u001b[0m\u001b[0;34m,\u001b[0m \u001b[0manimals\u001b[0m\u001b[0;34m,\u001b[0m \u001b[0mposition_df\u001b[0m\u001b[0;34m,\u001b[0m \u001b[0mmax_distance_from_well\u001b[0m\u001b[0;34m,\u001b[0m\u001b[0;34m\u001b[0m\u001b[0;34m\u001b[0m\u001b[0m\n\u001b[0;32m--> 111\u001b[0;31m         min_distance_traveled)\n\u001b[0m\u001b[1;32m    112\u001b[0m \u001b[0;34m\u001b[0m\u001b[0m\n\u001b[1;32m    113\u001b[0m     segments_df = pd.merge(\n",
      "\u001b[0;32m~/Src/pose_analysis/src/load_data.py\u001b[0m in \u001b[0;36mget_segments_df\u001b[0;34m(epoch_key, animals, position_df, max_distance_from_well, min_distance_traveled, position_to_linearize)\u001b[0m\n\u001b[1;32m     62\u001b[0m                     \u001b[0mmin_distance_traveled\u001b[0m\u001b[0;34m=\u001b[0m\u001b[0;36m50\u001b[0m\u001b[0;34m,\u001b[0m\u001b[0;34m\u001b[0m\u001b[0;34m\u001b[0m\u001b[0m\n\u001b[1;32m     63\u001b[0m                     position_to_linearize=['nose_x', 'nose_y']):\n\u001b[0;32m---> 64\u001b[0;31m     \u001b[0mwell_locations\u001b[0m \u001b[0;34m=\u001b[0m \u001b[0mget_well_locations\u001b[0m\u001b[0;34m(\u001b[0m\u001b[0mepoch_key\u001b[0m\u001b[0;34m,\u001b[0m \u001b[0manimals\u001b[0m\u001b[0;34m)\u001b[0m\u001b[0;34m\u001b[0m\u001b[0;34m\u001b[0m\u001b[0m\n\u001b[0m\u001b[1;32m     65\u001b[0m     \u001b[0mposition\u001b[0m \u001b[0;34m=\u001b[0m \u001b[0mposition_df\u001b[0m\u001b[0;34m.\u001b[0m\u001b[0mloc\u001b[0m\u001b[0;34m[\u001b[0m\u001b[0;34m:\u001b[0m\u001b[0;34m,\u001b[0m \u001b[0mposition_to_linearize\u001b[0m\u001b[0;34m]\u001b[0m\u001b[0;34m.\u001b[0m\u001b[0mvalues\u001b[0m\u001b[0;34m\u001b[0m\u001b[0;34m\u001b[0m\u001b[0m\n\u001b[1;32m     66\u001b[0m     segments_df, labeled_segments = segment_path(\n",
      "\u001b[0;32m~/anaconda3/envs/pose_analysis/lib/python3.6/site-packages/loren_frank_data_processing/position.py\u001b[0m in \u001b[0;36mget_well_locations\u001b[0;34m(epoch_key, animals)\u001b[0m\n\u001b[1;32m    360\u001b[0m     \u001b[0mlinearcoord\u001b[0m \u001b[0;34m=\u001b[0m \u001b[0mtask_file\u001b[0m\u001b[0;34m[\u001b[0m\u001b[0mepoch\u001b[0m \u001b[0;34m-\u001b[0m \u001b[0;36m1\u001b[0m\u001b[0;34m]\u001b[0m\u001b[0;34m[\u001b[0m\u001b[0;34m'linearcoord'\u001b[0m\u001b[0;34m]\u001b[0m\u001b[0;34m[\u001b[0m\u001b[0;36m0\u001b[0m\u001b[0;34m,\u001b[0m \u001b[0;36m0\u001b[0m\u001b[0;34m]\u001b[0m\u001b[0;34m.\u001b[0m\u001b[0msqueeze\u001b[0m\u001b[0;34m(\u001b[0m\u001b[0;34m)\u001b[0m\u001b[0;34m\u001b[0m\u001b[0;34m\u001b[0m\u001b[0m\n\u001b[1;32m    361\u001b[0m     \u001b[0mwell_locations\u001b[0m \u001b[0;34m=\u001b[0m \u001b[0;34m[\u001b[0m\u001b[0;34m]\u001b[0m\u001b[0;34m\u001b[0m\u001b[0;34m\u001b[0m\u001b[0m\n\u001b[0;32m--> 362\u001b[0;31m     \u001b[0;32mfor\u001b[0m \u001b[0marm\u001b[0m \u001b[0;32min\u001b[0m \u001b[0mlinearcoord\u001b[0m\u001b[0;34m:\u001b[0m\u001b[0;34m\u001b[0m\u001b[0;34m\u001b[0m\u001b[0m\n\u001b[0m\u001b[1;32m    363\u001b[0m         \u001b[0mwell_locations\u001b[0m\u001b[0;34m.\u001b[0m\u001b[0mappend\u001b[0m\u001b[0;34m(\u001b[0m\u001b[0marm\u001b[0m\u001b[0;34m[\u001b[0m\u001b[0;36m0\u001b[0m\u001b[0;34m,\u001b[0m \u001b[0;34m:\u001b[0m\u001b[0;34m,\u001b[0m \u001b[0;36m0\u001b[0m\u001b[0;34m]\u001b[0m\u001b[0;34m)\u001b[0m\u001b[0;34m\u001b[0m\u001b[0;34m\u001b[0m\u001b[0m\n\u001b[1;32m    364\u001b[0m         \u001b[0mwell_locations\u001b[0m\u001b[0;34m.\u001b[0m\u001b[0mappend\u001b[0m\u001b[0;34m(\u001b[0m\u001b[0marm\u001b[0m\u001b[0;34m[\u001b[0m\u001b[0;34m-\u001b[0m\u001b[0;36m1\u001b[0m\u001b[0;34m,\u001b[0m \u001b[0;34m:\u001b[0m\u001b[0;34m,\u001b[0m \u001b[0;36m0\u001b[0m\u001b[0;34m]\u001b[0m\u001b[0;34m)\u001b[0m\u001b[0;34m\u001b[0m\u001b[0;34m\u001b[0m\u001b[0m\n",
      "\u001b[0;31mTypeError\u001b[0m: iteration over a 0-d array"
     ]
    }
   ],
   "source": [
    "from src.load_data import load_data\n",
    "\n",
    "epoch_key = ('Jaq', 1, 2) # animal, day, epoch\n",
    "\n",
    "data = load_data(epoch_key)"
   ]
  },
  {
   "cell_type": "code",
   "execution_count": null,
   "metadata": {},
   "outputs": [],
   "source": [
    "#save linearised position \n",
    "\n",
    "data['position_info'].to_xarray().to_netcdf(\n",
    "    f\"{epoch_key[0]}_{epoch_key[1]:02d}_{epoch_key[2]:02d}_linearised_position_nose.nc\"\n",
    ")"
   ]
  },
  {
   "cell_type": "code",
   "execution_count": null,
   "metadata": {},
   "outputs": [],
   "source": [
    "fig, ax = plt.subplots(figsize=(30, 10))\n",
    "\n",
    "for edge_label, df in data['position_info'].groupby('track_segment_id'):\n",
    "    ax.scatter(df.index / np.timedelta64(1, 's'), df.linear_position, s=1)\n",
    "    \n",
    "ax.set_ylabel('Position [cm]')\n",
    "ax.set_xlabel('Time [s]');"
   ]
  },
  {
   "cell_type": "code",
   "execution_count": null,
   "metadata": {},
   "outputs": [],
   "source": [
    "from src.parameters import EDGE_ORDER, EDGE_SPACING, ANIMALS\n",
    "from src.load_data import make_track_graph\n",
    "\n",
    "track_graph, center_well_id = make_track_graph(epoch_key, ANIMALS)\n",
    "is_running = np.abs(data[\"position_info\"].tailBase_vel) > 4\n",
    "#is_running = np.abs(data[\"position_info\"].forepawR_vel) > 4\n",
    "is_outbound = data[\"position_info\"].task == \"Outbound\""
   ]
  },
  {
   "cell_type": "code",
   "execution_count": null,
   "metadata": {},
   "outputs": [],
   "source": [
    "fig, ax = plt.subplots(1, 1, figsize=(30, 10))\n",
    "ax.scatter(\n",
    "        data[\"position_info\"].index / np.timedelta64(1, \"s\"), data[\"position_info\"].linear_position, s=10, color='lightgrey',\n",
    "    )\n",
    "for task, df in data[\"position_info\"].groupby(\"task\"):\n",
    "    ax.scatter(\n",
    "        df.index / np.timedelta64(1, \"s\"), df.linear_position, s=10, label=task,\n",
    "    )\n",
    "\n",
    "plt.legend()\n",
    "sns.despine()"
   ]
  },
  {
   "cell_type": "markdown",
   "metadata": {},
   "source": [
    "### Continuous vs. Jump"
   ]
  },
  {
   "cell_type": "code",
   "execution_count": null,
   "metadata": {},
   "outputs": [],
   "source": [
    "from replay_trajectory_classification import ClusterlessClassifier\n",
    "from src.parameters import classifier_parameters, discrete_state_transition\n",
    "\n",
    "from sklearn.model_selection import KFold\n",
    "from tqdm.auto import tqdm\n",
    "\n",
    "cv = KFold()\n",
    "cv_classifier_clusterless_results = []\n",
    "\n",
    "for fold_ind, (train, test) in tqdm(enumerate(cv.split(data[\"position_info\"].index))):\n",
    "    \n",
    "    #train = train[is_outbound[train].values]\n",
    "    \n",
    "    cv_classifier = ClusterlessClassifier(**classifier_parameters)\n",
    "\n",
    "    cv_classifier.fit(\n",
    "        position=data[\"position_info\"].iloc[train].linear_position,\n",
    "        multiunits=data[\"multiunits\"].isel(time=train),\n",
    "        is_training=is_running.iloc[train],\n",
    "        track_graph=track_graph,\n",
    "        center_well_id=center_well_id,\n",
    "        edge_order=EDGE_ORDER,\n",
    "        edge_spacing=EDGE_SPACING,\n",
    "    )\n",
    "    cv_classifier.discrete_state_transition_ = discrete_state_transition\n",
    "    logging.info('Predicting posterior...')\n",
    "    cv_classifier_clusterless_results.append(\n",
    "        cv_classifier.predict(\n",
    "            data[\"multiunits\"].isel(time=test),\n",
    "            time=data[\"position_info\"].iloc[test].index / np.timedelta64(1, \"s\"),\n",
    "        )\n",
    "    )"
   ]
  },
  {
   "cell_type": "code",
   "execution_count": null,
   "metadata": {},
   "outputs": [],
   "source": [
    "# concatenate cv classifier results \n",
    "cv_classifier_clusterless_results = xr.concat(\n",
    "    cv_classifier_clusterless_results, dim=\"time\"\n",
    ")\n",
    "cv_classifier_clusterless_results"
   ]
  },
  {
   "cell_type": "code",
   "execution_count": null,
   "metadata": {},
   "outputs": [],
   "source": [
    "# save the results as .nc format. ncread matlab can read these\n",
    "cv_classifier_clusterless_results.to_netcdf(\n",
    "   f\"{epoch_key[0]}_{epoch_key[1]:02d}_{epoch_key[2]:02d}_cv_classifier_clusterless_vel_4_nose_alltime_results.nc\"\n",
    ")"
   ]
  },
  {
   "cell_type": "code",
   "execution_count": null,
   "metadata": {},
   "outputs": [],
   "source": [
    "cv_classifier_clusterless_results.time.max()"
   ]
  },
  {
   "cell_type": "code",
   "execution_count": null,
   "metadata": {},
   "outputs": [],
   "source": []
  },
  {
   "cell_type": "code",
   "execution_count": null,
   "metadata": {},
   "outputs": [],
   "source": [
    "from src.visualization import plot_classifier_time_slice\n",
    "\n",
    "time_slice = slice(32500, 34500)\n",
    "# time_slice = slice(2180,2190)\n",
    "\n",
    "plot_classifier_time_slice(\n",
    "    time_slice,\n",
    "    cv_classifier,\n",
    "    cv_classifier_clusterless_results,\n",
    "    data,\n",
    "    posterior_type=\"acausal_posterior\",\n",
    "    figsize=(30, 15),\n",
    ")"
   ]
  },
  {
   "cell_type": "code",
   "execution_count": null,
   "metadata": {},
   "outputs": [],
   "source": [
    "ClusterlessClassifier.load_model(f\"{epoch_key[0]}_{epoch_key[1]:02d}_{epoch_key[2]:02d}_cv_classifier.pkl\")"
   ]
  },
  {
   "cell_type": "code",
   "execution_count": null,
   "metadata": {},
   "outputs": [],
   "source": [
    "cv_classifier_clusterless_results = xr.open_dataset(f\"{epoch_key[0]}_{epoch_key[1]:02d}_{epoch_key[2]:02d}_cv_classifier_clusterless_vel_4_nose_alltime_results.nc\")"
   ]
  },
  {
   "cell_type": "code",
   "execution_count": null,
   "metadata": {},
   "outputs": [],
   "source": [
    "from src.analysis import calculate_replay_distance\n",
    "\n",
    "replay_distance_from_animal_position = calculate_replay_distance(\n",
    "    posterior=cv_classifier_clusterless_results.causal_posterior.sum('state'),\n",
    "    track_graph=track_graph,\n",
    "    decoder=cv_classifier,\n",
    "    position_2D=data['position_info'].loc[:, [\"nose_x\", \"nose_y\"]],\n",
    "    track_segment_id=data['position_info'].loc[:, [\"track_segment_id\"]],\n",
    ")\n",
    "replay_distance_from_animal_position"
   ]
  },
  {
   "cell_type": "code",
   "execution_count": null,
   "metadata": {},
   "outputs": [],
   "source": [
    "plt.figure(figsize=(30, 5))\n",
    "plt.plot(replay_distance_from_animal_position)"
   ]
  },
  {
   "cell_type": "code",
   "execution_count": null,
   "metadata": {},
   "outputs": [],
   "source": [
    "#save linearised position \n",
    "cv_classifier_clusterless_results['replay_distance_from_animal_position'] = (('time'), replay_distance_from_animal_position)"
   ]
  },
  {
   "cell_type": "code",
   "execution_count": null,
   "metadata": {},
   "outputs": [],
   "source": [
    "# save the results as .nc format. ncread matlab can read these\n",
    "cv_classifier_clusterless_results.to_netcdf(\n",
    "   f\"{epoch_key[0]}_{epoch_key[1]:02d}_{epoch_key[2]:02d}_cv_classifier_clusterless_vel_4_nose_alltimedist_results.nc\"\n",
    ")"
   ]
  },
  {
   "cell_type": "code",
   "execution_count": null,
   "metadata": {},
   "outputs": [],
   "source": []
  },
  {
   "cell_type": "markdown",
   "metadata": {},
   "source": [
    "### Local vs. Non-Local"
   ]
  },
  {
   "cell_type": "code",
   "execution_count": null,
   "metadata": {},
   "outputs": [],
   "source": [
    "from replay_identification import ReplayDetector\n",
    "from src.parameters import detector_parameters\n",
    "from sklearn.model_selection import KFold\n",
    "from tqdm.auto import tqdm\n",
    "\n",
    "cv = KFold()\n",
    "cv_clusterless_results = []\n",
    "\n",
    "for train, test in tqdm(cv.split(data[\"position_info\"].index)):\n",
    "\n",
    "    cv_detector = ReplayDetector(**detector_parameters)\n",
    "\n",
    "    cv_detector.fit(\n",
    "        is_ripple=data[\"is_ripple\"].iloc[train],\n",
    "        speed=data[\"position_info\"].iloc[train].speed,\n",
    "        position=data[\"position_info\"].iloc[train].linear_position,\n",
    "        multiunit=data[\"multiunit\"].isel(time=train),\n",
    "        track_graph=track_graph,\n",
    "        center_well_id=center_well_id,\n",
    "        edge_order=EDGE_ORDER,\n",
    "        edge_spacing=EDGE_SPACING,\n",
    "    )\n",
    "    \n",
    "    logging.info('Predicting posterior...')\n",
    "    cv_clusterless_results.append(\n",
    "        cv_detector.predict(\n",
    "            speed=data[\"position_info\"].iloc[test].speed,\n",
    "            position=data[\"position_info\"].iloc[test].linear_position,\n",
    "            multiunit=data[\"multiunit\"].isel(time=test),\n",
    "            use_likelihoods=[\"multiunit\"],\n",
    "            time=data[\"position_info\"].iloc[test].index / np.timedelta64(1, \"s\"),\n",
    "        )\n",
    "    )"
   ]
  },
  {
   "cell_type": "code",
   "execution_count": null,
   "metadata": {},
   "outputs": [],
   "source": [
    "cv_clusterless_results = xr.concat(cv_clusterless_results, dim=\"time\")\n",
    "cv_clusterless_results"
   ]
  },
  {
   "cell_type": "code",
   "execution_count": null,
   "metadata": {},
   "outputs": [],
   "source": [
    "cv_clusterless_results.to_netcdf(\n",
    "    f\"{epoch_key[0]}_{epoch_key[1]:02d}_{epoch_key[2]:02d}_cv_clusterless_results.nc\"\n",
    ")"
   ]
  },
  {
   "cell_type": "code",
   "execution_count": null,
   "metadata": {},
   "outputs": [],
   "source": [
    "from src.visualization import plot_local_non_local_time_slice\n",
    "\n",
    "time_slice = slice(32500, 34500)\n",
    "\n",
    "plot_local_non_local_time_slice(\n",
    "    time_slice,\n",
    "    cv_detector,\n",
    "    cv_clusterless_results,\n",
    "    data,\n",
    "    posterior_type=\"acausal_posterior\",\n",
    "    figsize=(30, 15),\n",
    ")"
   ]
  }
 ],
 "metadata": {
  "kernelspec": {
   "display_name": "Python 3",
   "language": "python",
   "name": "python3"
  },
  "language_info": {
   "codemirror_mode": {
    "name": "ipython",
    "version": 3
   },
   "file_extension": ".py",
   "mimetype": "text/x-python",
   "name": "python",
   "nbconvert_exporter": "python",
   "pygments_lexer": "ipython3",
   "version": "3.6.10"
  }
 },
 "nbformat": 4,
 "nbformat_minor": 4
}
