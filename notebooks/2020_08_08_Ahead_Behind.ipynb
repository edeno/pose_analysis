{
 "cells": [
  {
   "cell_type": "code",
   "execution_count": 1,
   "metadata": {},
   "outputs": [],
   "source": [
    "%matplotlib inline\n",
    "%reload_ext autoreload\n",
    "%autoreload 2\n",
    "%config InlineBackend.figure_format = 'retina'"
   ]
  },
  {
   "cell_type": "code",
   "execution_count": 2,
   "metadata": {},
   "outputs": [],
   "source": [
    "epoch_key = (\"Jaq\", 4, 2)"
   ]
  },
  {
   "cell_type": "code",
   "execution_count": 19,
   "metadata": {},
   "outputs": [
    {
     "name": "stderr",
     "output_type": "stream",
     "text": [
      "/Users/edeno/miniconda3/envs/pose_analysis/lib/python3.6/site-packages/loren_frank_data_processing/track_segment_classification.py:276: RuntimeWarning: divide by zero encountered in log\n",
      "  state_transition = np.log(state_transition.copy()[~is_bad])\n"
     ]
    }
   ],
   "source": [
    "from src.load_data import get_position_info, get_interpolated_position_info\n",
    "\n",
    "position_info = get_interpolated_position_info(\n",
    "    epoch_key)"
   ]
  },
  {
   "cell_type": "code",
   "execution_count": 25,
   "metadata": {},
   "outputs": [
    {
     "data": {
      "text/plain": [
       "Index(['nose_x', 'nose_y', 'nose_vel', 'tailBase_x', 'tailBase_y',\n",
       "       'tailBase_vel', 'tailMid_x', 'tailMid_y', 'tailMid_vel', 'tailTip_x',\n",
       "       'tailTip_y', 'tailTip_vel', 'forepawL_x', 'forepawL_y', 'forepawL_vel',\n",
       "       'forepawR_x', 'forepawR_y', 'forepawR_vel', 'hindpawL_x', 'hindpawL_y',\n",
       "       'hindpawL_vel', 'hindpawR_x', 'hindpawR_y', 'hindpawR_vel', 'body_dir',\n",
       "       'linear_distance', 'projected_x_position', 'projected_y_position',\n",
       "       'track_segment_id', 'arm_name', 'linear_position', 'linear_velocity',\n",
       "       'linear_speed'],\n",
       "      dtype='object')"
      ]
     },
     "execution_count": 25,
     "metadata": {},
     "output_type": "execute_result"
    }
   ],
   "source": [
    "position_info.columns"
   ]
  },
  {
   "cell_type": "code",
   "execution_count": 7,
   "metadata": {},
   "outputs": [],
   "source": [
    "from loren_frank_data_processing.position import make_track_graph\n",
    "from src.parameters import ANIMALS\n",
    "\n",
    "track_graph, _ = make_track_graph(epoch_key, ANIMALS)"
   ]
  },
  {
   "cell_type": "code",
   "execution_count": 9,
   "metadata": {},
   "outputs": [],
   "source": [
    "from trajectory_analysis_tools import (get_distance_metrics,\n",
    "                                       get_trajectory_data)\n",
    "\n",
    "(actual_projected_position, actual_edges, directions,\n",
    " map_position_2d, map_edges) = get_trajectory_data(\n",
    "    posterior, track_graph, classifier, position_info, direction_variable='body_dir')\n",
    "\n",
    "distance_metrics = get_distance_metrics(track_graph, actual_projected_position, actual_edges,\n",
    "                                        directions, map_position_2d, map_edges)"
   ]
  }
 ],
 "metadata": {
  "kernelspec": {
   "display_name": "Python [conda env:pose_analysis] *",
   "language": "python",
   "name": "conda-env-pose_analysis-py"
  },
  "language_info": {
   "codemirror_mode": {
    "name": "ipython",
    "version": 3
   },
   "file_extension": ".py",
   "mimetype": "text/x-python",
   "name": "python",
   "nbconvert_exporter": "python",
   "pygments_lexer": "ipython3",
   "version": "3.6.11"
  }
 },
 "nbformat": 4,
 "nbformat_minor": 4
}
