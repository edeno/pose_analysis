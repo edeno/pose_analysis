{
 "cells": [
  {
   "cell_type": "code",
   "execution_count": 1,
   "metadata": {},
   "outputs": [],
   "source": [
    "%matplotlib inline\n",
    "%reload_ext autoreload\n",
    "%autoreload 2\n",
    "%config InlineBackend.figure_format = 'retina'"
   ]
  },
  {
   "cell_type": "code",
   "execution_count": 14,
   "metadata": {},
   "outputs": [],
   "source": [
    "import logging\n",
    "\n",
    "FORMAT = '%(asctime)s %(message)s'\n",
    "\n",
    "logging.basicConfig(level='INFO', format=FORMAT, datefmt='%d-%b-%y %H:%M:%S')"
   ]
  },
  {
   "cell_type": "code",
   "execution_count": 2,
   "metadata": {},
   "outputs": [],
   "source": [
    "epoch_key = (\"Jaq\", 3, 2)"
   ]
  },
  {
   "cell_type": "code",
   "execution_count": 3,
   "metadata": {},
   "outputs": [
    {
     "name": "stderr",
     "output_type": "stream",
     "text": [
      "Failed to load file: /home/edeno/Documents/Github/pose_analysis/src/../Raw-Data/Jaq/JaqDIO03.mat\n",
      "No DIO file found, using distance from well to segment trials\n",
      "Failed to load file: /home/edeno/Documents/Github/pose_analysis/src/../Raw-Data/Jaq/JaqDIO03.mat\n",
      "No DIO file found, inferring correct inbound/outbound from task rules\n",
      "Failed to load file: /home/edeno/Documents/Github/pose_analysis/src/../Raw-Data/Jaq/Jaqmarks03.mat\n",
      "Failed to load file: /home/edeno/Documents/Github/pose_analysis/src/../Raw-Data/Jaq/Jaqmarks03.mat\n",
      "Failed to load file: /home/edeno/Documents/Github/pose_analysis/src/../Raw-Data/Jaq/Jaqmarks03.mat\n",
      "Failed to load file: /home/edeno/Documents/Github/pose_analysis/src/../Raw-Data/Jaq/Jaqmarks03.mat\n",
      "Failed to load file: /home/edeno/Documents/Github/pose_analysis/src/../Raw-Data/Jaq/Jaqmarks03.mat\n",
      "Failed to load file: /home/edeno/Documents/Github/pose_analysis/src/../Raw-Data/Jaq/Jaqmarks03.mat\n",
      "Failed to load file: /home/edeno/Documents/Github/pose_analysis/src/../Raw-Data/Jaq/Jaqmarks03.mat\n",
      "Failed to load file: /home/edeno/Documents/Github/pose_analysis/src/../Raw-Data/Jaq/Jaqmarks03.mat\n",
      "Failed to load file: /home/edeno/Documents/Github/pose_analysis/src/../Raw-Data/Jaq/Jaqmarks03.mat\n",
      "Failed to load file: /home/edeno/Documents/Github/pose_analysis/src/../Raw-Data/Jaq/Jaqmarks03.mat\n",
      "Failed to load file: /home/edeno/Documents/Github/pose_analysis/src/../Raw-Data/Jaq/Jaqmarks03.mat\n",
      "Failed to load file: /home/edeno/Documents/Github/pose_analysis/src/../Raw-Data/Jaq/Jaqmarks03.mat\n",
      "Failed to load file: /home/edeno/Documents/Github/pose_analysis/src/../Raw-Data/Jaq/Jaqmarks03.mat\n",
      "Failed to load file: /home/edeno/Documents/Github/pose_analysis/src/../Raw-Data/Jaq/Jaqmarks03.mat\n",
      "Failed to load file: /home/edeno/Documents/Github/pose_analysis/src/../Raw-Data/Jaq/Jaqmarks03.mat\n",
      "Failed to load file: /home/edeno/Documents/Github/pose_analysis/src/../Raw-Data/Jaq/Jaqmarks03.mat\n",
      "Failed to load file: /home/edeno/Documents/Github/pose_analysis/src/../Raw-Data/Jaq/Jaqmarks03.mat\n",
      "Failed to load file: /home/edeno/Documents/Github/pose_analysis/src/../Raw-Data/Jaq/Jaqmarks03.mat\n",
      "Failed to load file: /home/edeno/Documents/Github/pose_analysis/src/../Raw-Data/Jaq/Jaqmarks03.mat\n",
      "Failed to load file: /home/edeno/Documents/Github/pose_analysis/src/../Raw-Data/Jaq/Jaqmarks03.mat\n",
      "Failed to load file: /home/edeno/Documents/Github/pose_analysis/src/../Raw-Data/Jaq/Jaqmarks03.mat\n",
      "Failed to load file: /home/edeno/Documents/Github/pose_analysis/src/../Raw-Data/Jaq/Jaqmarks03.mat\n",
      "Failed to load file: /home/edeno/Documents/Github/pose_analysis/src/../Raw-Data/Jaq/Jaqmarks03.mat\n",
      "Failed to load file: /home/edeno/Documents/Github/pose_analysis/src/../Raw-Data/Jaq/Jaqmarks03.mat\n",
      "Failed to load file: /home/edeno/Documents/Github/pose_analysis/src/../Raw-Data/Jaq/Jaqmarks03.mat\n",
      "Failed to load file: /home/edeno/Documents/Github/pose_analysis/src/../Raw-Data/Jaq/Jaqmarks03.mat\n",
      "Failed to load file: /home/edeno/Documents/Github/pose_analysis/src/../Raw-Data/Jaq/Jaqmarks03.mat\n",
      "Failed to load file: /home/edeno/Documents/Github/pose_analysis/src/../Raw-Data/Jaq/Jaqmarks03.mat\n"
     ]
    }
   ],
   "source": [
    "from src.load_data import load_data\n",
    "\n",
    "data = load_data(epoch_key)"
   ]
  },
  {
   "cell_type": "code",
   "execution_count": null,
   "metadata": {},
   "outputs": [],
   "source": [
    "data[\"spikes\"].shape"
   ]
  },
  {
   "cell_type": "code",
   "execution_count": 9,
   "metadata": {},
   "outputs": [
    {
     "data": {
      "text/html": [
       "<table style=\"border: 2px solid white;\">\n",
       "<tr>\n",
       "<td style=\"vertical-align: top; border: 0px solid white\">\n",
       "<h3 style=\"text-align: left;\">Client</h3>\n",
       "<ul style=\"text-align: left; list-style: none; margin: 0; padding: 0;\">\n",
       "  <li><b>Scheduler: </b>tcp://127.0.0.1:43277</li>\n",
       "  <li><b>Dashboard: </b><a href='http://127.0.0.1:39435/status' target='_blank'>http://127.0.0.1:39435/status</a></li>\n",
       "</ul>\n",
       "</td>\n",
       "<td style=\"vertical-align: top; border: 0px solid white\">\n",
       "<h3 style=\"text-align: left;\">Cluster</h3>\n",
       "<ul style=\"text-align: left; list-style:none; margin: 0; padding: 0;\">\n",
       "  <li><b>Workers: </b>16</li>\n",
       "  <li><b>Cores: </b>64</li>\n",
       "  <li><b>Memory: </b>1.62 TB</li>\n",
       "</ul>\n",
       "</td>\n",
       "</tr>\n",
       "</table>"
      ],
      "text/plain": [
       "<Client: 'tcp://127.0.0.1:43277' processes=16 threads=64, memory=1.62 TB>"
      ]
     },
     "execution_count": 9,
     "metadata": {},
     "output_type": "execute_result"
    }
   ],
   "source": [
    "from dask.distributed import Client\n",
    "\n",
    "client = Client(n_workers=16, threads_per_worker=4)\n",
    "client"
   ]
  },
  {
   "cell_type": "code",
   "execution_count": null,
   "metadata": {},
   "outputs": [
    {
     "data": {
      "application/vnd.jupyter.widget-view+json": {
       "model_id": "1e7be8ae5c8744c7b35edaf1b0d28366",
       "version_major": 2,
       "version_minor": 0
      },
      "text/plain": [
       "HBox(children=(FloatProgress(value=1.0, bar_style='info', layout=Layout(width='20px'), max=1.0), HTML(value=''…"
      ]
     },
     "metadata": {},
     "output_type": "display_data"
    }
   ],
   "source": [
    "from replay_trajectory_classification import SortedSpikesClassifier\n",
    "\n",
    "from src.parameters import (discrete_state_transition,\n",
    "                            EDGE_ORDER, EDGE_SPACING, ANIMALS)\n",
    "\n",
    "from sklearn.model_selection import KFold\n",
    "from tqdm.auto import tqdm\n",
    "\n",
    "from src.load_data import make_track_graph\n",
    "import numpy as np\n",
    "\n",
    "\n",
    "track_graph, center_well_id = make_track_graph(epoch_key, ANIMALS)\n",
    "is_running = np.abs(data[\"position_info\"].tailBase_vel) > 4\n",
    "is_outbound = data[\"position_info\"].task == \"Outbound\"\n",
    "\n",
    "classifier_parameters = {\n",
    "    'movement_var': 6.0,\n",
    "    'replay_speed': 1,\n",
    "    'place_bin_size': 2.5,\n",
    "    'continuous_transition_types': [['random_walk', 'uniform'],\n",
    "                                    ['uniform',     'uniform']],\n",
    "    'knot_spacing': 5,\n",
    "    'spike_model_penalty': 0.5\n",
    "}\n",
    "\n",
    "cv = KFold()\n",
    "cv_classifier_sorted_spikes_results = []\n",
    "\n",
    "for fold_ind, (train, test) in tqdm(enumerate(cv.split(data[\"position_info\"].index))):\n",
    "    \n",
    "    #train = train[is_outbound[train].values]\n",
    "    \n",
    "    cv_classifier = SortedSpikesClassifier(**classifier_parameters)\n",
    "\n",
    "    cv_classifier.fit(\n",
    "        position=data[\"position_info\"].iloc[train].linear_position,\n",
    "        spikes=data[\"spikes\"].iloc[train],\n",
    "        is_training=is_running.iloc[train],\n",
    "        track_graph=track_graph,\n",
    "        center_well_id=center_well_id,\n",
    "        edge_order=EDGE_ORDER,\n",
    "        edge_spacing=EDGE_SPACING,\n",
    "    )\n",
    "    cv_classifier.discrete_state_transition_ = discrete_state_transition\n",
    "    logging.info('Predicting posterior...')\n",
    "    cv_classifier_sorted_spikes_results.append(\n",
    "        cv_classifier.predict(\n",
    "            data[\"spikes\"].iloc[test],\n",
    "            time=data[\"position_info\"].iloc[test].index / np.timedelta64(1, \"s\"),\n",
    "        )\n",
    "    )\n",
    "    \n",
    "# concatenate cv classifier results \n",
    "cv_classifier_sorted_spikes_results = xr.concat(\n",
    "    cv_classifier_clusterless_results, dim=\"time\"\n",
    ")\n",
    "cv_classifier_sorted_spikes_results"
   ]
  },
  {
   "cell_type": "code",
   "execution_count": null,
   "metadata": {},
   "outputs": [],
   "source": [
    "# save the results as .nc format. ncread matlab can read these\n",
    "cv_classifier_clusterless_results.to_netcdf(\n",
    "   f\"{epoch_key[0]}_{epoch_key[1]:02d}_{epoch_key[2]:02d}_cv_classifier_sortedspikes_vel_4_nose_alltime_results.nc\"\n",
    ")"
   ]
  }
 ],
 "metadata": {
  "kernelspec": {
   "display_name": "Python [conda env:pose_analysis] *",
   "language": "python",
   "name": "conda-env-pose_analysis-py"
  },
  "language_info": {
   "codemirror_mode": {
    "name": "ipython",
    "version": 3
   },
   "file_extension": ".py",
   "mimetype": "text/x-python",
   "name": "python",
   "nbconvert_exporter": "python",
   "pygments_lexer": "ipython3",
   "version": "3.6.11"
  }
 },
 "nbformat": 4,
 "nbformat_minor": 4
}
