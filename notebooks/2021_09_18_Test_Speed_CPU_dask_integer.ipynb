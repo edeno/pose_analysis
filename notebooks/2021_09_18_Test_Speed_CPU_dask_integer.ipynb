{
 "cells": [
  {
   "cell_type": "code",
   "execution_count": 1,
   "id": "9dc90e85-fe32-40d6-86e3-fd8497d2b049",
   "metadata": {},
   "outputs": [],
   "source": [
    "%matplotlib inline\n",
    "%reload_ext autoreload"
   ]
  },
  {
   "cell_type": "code",
   "execution_count": 2,
   "id": "c5783a2e-959e-40ed-89b5-ed2b4d135e40",
   "metadata": {},
   "outputs": [],
   "source": [
    "import matplotlib.pyplot as plt\n",
    "import numpy as np\n",
    "import xarray as xr\n",
    "import seaborn as sns\n",
    "import logging\n",
    "\n",
    "import logging\n",
    "import sys\n",
    "\n",
    "def setup_logging(epoch_key, date_format='%d-%b-%y %H:%M:%S', format='%(asctime)s %(message)s'):\n",
    "    animal, day, epoch = epoch_key\n",
    "    log_filename = f\"{animal}_{day:02d}_{epoch:02d}_test_speed_cpu.log\"\n",
    "\n",
    "    logger = logging.getLogger()\n",
    "    logger.setLevel(logging.INFO)\n",
    "    formatter = logging.Formatter(fmt=format, datefmt=date_format)\n",
    "\n",
    "    stdout_handler = logging.StreamHandler(sys.stdout)\n",
    "    stdout_handler.setLevel(logging.INFO)\n",
    "    stdout_handler.setFormatter(formatter)\n",
    "\n",
    "    file_handler = logging.FileHandler(log_filename)\n",
    "    file_handler.setLevel(logging.INFO)\n",
    "    file_handler.setFormatter(formatter)\n",
    "\n",
    "    logger.addHandler(file_handler)\n",
    "    logger.addHandler(stdout_handler)\n",
    "\n",
    "sns.set_context(\"talk\")"
   ]
  },
  {
   "cell_type": "code",
   "execution_count": 3,
   "id": "99e012c8-774c-46f3-a3ac-50e8294e6029",
   "metadata": {},
   "outputs": [],
   "source": [
    "epoch_key = 'Jaq', 3, 12"
   ]
  },
  {
   "cell_type": "code",
   "execution_count": 4,
   "id": "7ece2748-7579-4e99-a696-ed16efe6e205",
   "metadata": {},
   "outputs": [],
   "source": [
    "setup_logging(epoch_key)"
   ]
  },
  {
   "cell_type": "code",
   "execution_count": 5,
   "id": "8745202a-1bd4-4dc2-9255-1c4ea6b7c706",
   "metadata": {},
   "outputs": [
    {
     "name": "stderr",
     "output_type": "stream",
     "text": [
      "/home/edeno/miniconda3/envs/pose_analysis/lib/python3.6/site-packages/distributed/node.py:155: UserWarning: Port 8787 is already in use.\n",
      "Perhaps you already have a cluster running?\n",
      "Hosting the HTTP server on port 38443 instead\n",
      "  http_address[\"port\"], self.http_server.port\n"
     ]
    },
    {
     "data": {
      "text/html": [
       "<table style=\"border: 2px solid white;\">\n",
       "<tr>\n",
       "<td style=\"vertical-align: top; border: 0px solid white\">\n",
       "<h3 style=\"text-align: left;\">Client</h3>\n",
       "<ul style=\"text-align: left; list-style: none; margin: 0; padding: 0;\">\n",
       "  <li><b>Scheduler: </b>tcp://127.0.0.1:36825</li>\n",
       "  <li><b>Dashboard: </b><a href='http://127.0.0.1:38443/status' target='_blank'>http://127.0.0.1:38443/status</a></li>\n",
       "</ul>\n",
       "</td>\n",
       "<td style=\"vertical-align: top; border: 0px solid white\">\n",
       "<h3 style=\"text-align: left;\">Cluster</h3>\n",
       "<ul style=\"text-align: left; list-style:none; margin: 0; padding: 0;\">\n",
       "  <li><b>Workers: </b>16</li>\n",
       "  <li><b>Cores: </b>96</li>\n",
       "  <li><b>Memory: </b>2.16 TB</li>\n",
       "</ul>\n",
       "</td>\n",
       "</tr>\n",
       "</table>"
      ],
      "text/plain": [
       "<Client: 'tcp://127.0.0.1:36825' processes=16 threads=96, memory=2.16 TB>"
      ]
     },
     "execution_count": 5,
     "metadata": {},
     "output_type": "execute_result"
    }
   ],
   "source": [
    "from dask.distributed import Client\n",
    "\n",
    "# for virga\n",
    "client = Client(n_workers=16, threads_per_worker=6, processes=True)\n",
    "\n",
    "client"
   ]
  },
  {
   "cell_type": "code",
   "execution_count": 6,
   "id": "aa7e2337-932c-46d9-abe4-8a641644e0f6",
   "metadata": {},
   "outputs": [
    {
     "name": "stdout",
     "output_type": "stream",
     "text": [
      "19-Sep-21 21:56:31 <Client: 'tcp://127.0.0.1:36825' processes=16 threads=96, memory=2.16 TB>\n"
     ]
    }
   ],
   "source": [
    "logging.info(client)"
   ]
  },
  {
   "cell_type": "code",
   "execution_count": 7,
   "id": "21e0a18d-ff83-4331-bd31-475da34172e6",
   "metadata": {},
   "outputs": [
    {
     "name": "stdout",
     "output_type": "stream",
     "text": [
      "19-Sep-21 21:56:33 Loading position info...\n",
      "19-Sep-21 21:57:14 Loading multiunit...\n",
      "19-Sep-21 21:57:46 Loading spikes...\n",
      "19-Sep-21 21:59:34 Finding ripple times...\n"
     ]
    }
   ],
   "source": [
    "from src.load_data import load_data\n",
    "\n",
    "\n",
    "data = load_data(epoch_key,\n",
    "                 position_to_linearize=['nose_x', 'nose_y'],\n",
    "                 max_distance_from_well=5,\n",
    "                 min_distance_traveled=30)"
   ]
  },
  {
   "cell_type": "code",
   "execution_count": 8,
   "id": "cfd51411-b01d-4c68-8bf0-c800b0260db4",
   "metadata": {},
   "outputs": [
    {
     "data": {
      "text/plain": [
       "'http://127.0.0.1:38443/status'"
      ]
     },
     "execution_count": 8,
     "metadata": {},
     "output_type": "execute_result"
    }
   ],
   "source": [
    "client.dashboard_link"
   ]
  },
  {
   "cell_type": "markdown",
   "id": "e4e97fd0-2917-4191-992d-a89432c9150e",
   "metadata": {},
   "source": [
    "#### Dask Integer"
   ]
  },
  {
   "cell_type": "code",
   "execution_count": 9,
   "id": "a695cd99-e1d4-45be-8fae-6e182a27b3d9",
   "metadata": {},
   "outputs": [
    {
     "name": "stdout",
     "output_type": "stream",
     "text": [
      "19-Sep-21 22:00:36 Cupy is not installed. Required if using gpu state space.\n",
      "{'clusterless_algorithm': 'multiunit_likelihood_integer',\n",
      " 'clusterless_algorithm_params': {'chunks': 100,\n",
      "                                  'mark_std': 20.0,\n",
      "                                  'position_std': 8.0},\n",
      " 'continuous_transition_types': [['random_walk', 'uniform'],\n",
      "                                 ['uniform', 'uniform']],\n",
      " 'discrete_transition_diag': 0.968,\n",
      " 'movement_var': 6.0,\n",
      " 'place_bin_size': 2.5,\n",
      " 'replay_speed': 1}\n",
      "19-Sep-21 22:00:37 None\n"
     ]
    }
   ],
   "source": [
    "from replay_trajectory_classification.misc import NumbaKDE\n",
    "from replay_trajectory_classification import ClusterlessClassifier\n",
    "from src.parameters import WTRACK_EDGE_ORDER, WTRACK_EDGE_SPACING\n",
    "import pprint\n",
    "\n",
    "continuous_transition_types = (\n",
    "    [['random_walk', 'uniform'],\n",
    "     ['uniform',     'uniform']])\n",
    "\n",
    "\n",
    "clusterless_algorithm = 'multiunit_likelihood_integer'\n",
    "clusterless_algorithm_params = {\n",
    "    'mark_std': 20.0,\n",
    "    'position_std': 8.0,\n",
    "    'chunks': 100,\n",
    "}\n",
    "\n",
    "classifier_parameters = {\n",
    "    'movement_var': 6.0,\n",
    "    'replay_speed': 1,\n",
    "    'place_bin_size': 2.5,\n",
    "    'continuous_transition_types': continuous_transition_types,\n",
    "    'discrete_transition_diag': 0.968,\n",
    "    'clusterless_algorithm': clusterless_algorithm,\n",
    "    'clusterless_algorithm_params': clusterless_algorithm_params\n",
    "}\n",
    "\n",
    "logging.info(pprint.pprint(classifier_parameters))"
   ]
  },
  {
   "cell_type": "code",
   "execution_count": null,
   "id": "49af105a-9241-4f8c-9741-a08173bca7e1",
   "metadata": {},
   "outputs": [
    {
     "name": "stdout",
     "output_type": "stream",
     "text": [
      "19-Sep-21 22:00:37 Dask Integer\n",
      "19-Sep-21 22:00:37 Fitting initial conditions...\n",
      "19-Sep-21 22:00:38 Fitting state transition...\n",
      "19-Sep-21 22:00:38 Fitting multiunits...\n",
      "19-Sep-21 22:00:56 Estimating likelihood...\n"
     ]
    },
    {
     "name": "stderr",
     "output_type": "stream",
     "text": [
      "distributed.utils_perf - WARNING - full garbage collections took 30% CPU time recently (threshold: 10%)\n"
     ]
    }
   ],
   "source": [
    "logging.info('Dask Integer')\n",
    "state_names = ['Continuous', 'Fragmented']\n",
    "\n",
    "classifier = ClusterlessClassifier(**classifier_parameters)\n",
    "classifier.fit(\n",
    "    position=data[\"position_info\"].linear_position,\n",
    "    multiunits=data[\"multiunits\"],\n",
    "    track_graph=data[\"track_graph\"],\n",
    "    edge_order=WTRACK_EDGE_ORDER,\n",
    "    edge_spacing=WTRACK_EDGE_SPACING,\n",
    ")\n",
    "\n",
    "results_dask_integer = classifier.predict(\n",
    "    data[\"multiunits\"],\n",
    "    time=data[\"position_info\"].index / np.timedelta64(1, \"s\"),\n",
    "    state_names=state_names\n",
    ")\n",
    "logging.info('Done...')"
   ]
  },
  {
   "cell_type": "code",
   "execution_count": null,
   "id": "92e1048a-f700-417e-99c5-3e9ace43ab83",
   "metadata": {},
   "outputs": [],
   "source": [
    "client.close()"
   ]
  },
  {
   "cell_type": "code",
   "execution_count": null,
   "id": "1affcbf5-c608-4086-8cd6-1026fe775e08",
   "metadata": {},
   "outputs": [],
   "source": []
  },
  {
   "cell_type": "code",
   "execution_count": null,
   "id": "ba85f58b-c4cb-47b1-8ba6-1a9b0c544b26",
   "metadata": {},
   "outputs": [],
   "source": []
  }
 ],
 "metadata": {
  "kernelspec": {
   "display_name": "Python [conda env:pose_analysis] *",
   "language": "python",
   "name": "conda-env-pose_analysis-py"
  },
  "language_info": {
   "codemirror_mode": {
    "name": "ipython",
    "version": 3
   },
   "file_extension": ".py",
   "mimetype": "text/x-python",
   "name": "python",
   "nbconvert_exporter": "python",
   "pygments_lexer": "ipython3",
   "version": "3.8.12"
  }
 },
 "nbformat": 4,
 "nbformat_minor": 5
}
