{
 "cells": [
  {
   "cell_type": "code",
   "execution_count": 1,
   "id": "9dc90e85-fe32-40d6-86e3-fd8497d2b049",
   "metadata": {},
   "outputs": [],
   "source": [
    "%matplotlib inline\n",
    "%reload_ext autoreload"
   ]
  },
  {
   "cell_type": "code",
   "execution_count": 2,
   "id": "c5783a2e-959e-40ed-89b5-ed2b4d135e40",
   "metadata": {},
   "outputs": [],
   "source": [
    "import matplotlib.pyplot as plt\n",
    "import numpy as np\n",
    "import xarray as xr\n",
    "import seaborn as sns\n",
    "import logging\n",
    "\n",
    "import logging\n",
    "import sys\n",
    "\n",
    "def setup_logging(epoch_key, date_format='%d-%b-%y %H:%M:%S', format='%(asctime)s %(message)s'):\n",
    "    animal, day, epoch = epoch_key\n",
    "    log_filename = f\"{animal}_{day:02d}_{epoch:02d}_test_speed_cpu.log\"\n",
    "\n",
    "    logger = logging.getLogger()\n",
    "    logger.setLevel(logging.INFO)\n",
    "    formatter = logging.Formatter(fmt=format, datefmt=date_format)\n",
    "\n",
    "    stdout_handler = logging.StreamHandler(sys.stdout)\n",
    "    stdout_handler.setLevel(logging.INFO)\n",
    "    stdout_handler.setFormatter(formatter)\n",
    "\n",
    "    file_handler = logging.FileHandler(log_filename)\n",
    "    file_handler.setLevel(logging.INFO)\n",
    "    file_handler.setFormatter(formatter)\n",
    "\n",
    "    logger.addHandler(file_handler)\n",
    "    logger.addHandler(stdout_handler)\n",
    "\n",
    "sns.set_context(\"talk\")"
   ]
  },
  {
   "cell_type": "code",
   "execution_count": 3,
   "id": "99e012c8-774c-46f3-a3ac-50e8294e6029",
   "metadata": {},
   "outputs": [],
   "source": [
    "epoch_key = 'Jaq', 3, 12"
   ]
  },
  {
   "cell_type": "code",
   "execution_count": 4,
   "id": "7ece2748-7579-4e99-a696-ed16efe6e205",
   "metadata": {},
   "outputs": [],
   "source": [
    "setup_logging(epoch_key)\n",
    "logging.info('Numba KDE')"
   ]
  },
  {
   "cell_type": "code",
   "execution_count": 5,
   "id": "8745202a-1bd4-4dc2-9255-1c4ea6b7c706",
   "metadata": {},
   "outputs": [
    {
     "data": {
      "text/html": [
       "<table style=\"border: 2px solid white;\">\n",
       "<tr>\n",
       "<td style=\"vertical-align: top; border: 0px solid white\">\n",
       "<h3 style=\"text-align: left;\">Client</h3>\n",
       "<ul style=\"text-align: left; list-style: none; margin: 0; padding: 0;\">\n",
       "  <li><b>Scheduler: </b>tcp://127.0.0.1:35589</li>\n",
       "  <li><b>Dashboard: </b><a href='http://127.0.0.1:8787/status' target='_blank'>http://127.0.0.1:8787/status</a></li>\n",
       "</ul>\n",
       "</td>\n",
       "<td style=\"vertical-align: top; border: 0px solid white\">\n",
       "<h3 style=\"text-align: left;\">Cluster</h3>\n",
       "<ul style=\"text-align: left; list-style:none; margin: 0; padding: 0;\">\n",
       "  <li><b>Workers: </b>16</li>\n",
       "  <li><b>Cores: </b>96</li>\n",
       "  <li><b>Memory: </b>2.16 TB</li>\n",
       "</ul>\n",
       "</td>\n",
       "</tr>\n",
       "</table>"
      ],
      "text/plain": [
       "<Client: 'tcp://127.0.0.1:35589' processes=16 threads=96, memory=2.16 TB>"
      ]
     },
     "execution_count": 5,
     "metadata": {},
     "output_type": "execute_result"
    }
   ],
   "source": [
    "from dask.distributed import Client\n",
    "\n",
    "# for virga\n",
    "client = Client(n_workers=16, threads_per_worker=6, processes=True)\n",
    "\n",
    "client"
   ]
  },
  {
   "cell_type": "code",
   "execution_count": null,
   "id": "aa7e2337-932c-46d9-abe4-8a641644e0f6",
   "metadata": {},
   "outputs": [],
   "source": [
    "logging.info(client)"
   ]
  },
  {
   "cell_type": "code",
   "execution_count": 6,
   "id": "21e0a18d-ff83-4331-bd31-475da34172e6",
   "metadata": {},
   "outputs": [
    {
     "name": "stdout",
     "output_type": "stream",
     "text": [
      "19-Sep-21 16:20:57 Loading position info...\n",
      "19-Sep-21 16:21:34 Loading multiunit...\n",
      "19-Sep-21 16:22:06 Loading spikes...\n",
      "19-Sep-21 16:23:55 Finding ripple times...\n"
     ]
    }
   ],
   "source": [
    "from src.load_data import load_data\n",
    "\n",
    "\n",
    "data = load_data(epoch_key,\n",
    "                 position_to_linearize=['nose_x', 'nose_y'],\n",
    "                 max_distance_from_well=5,\n",
    "                 min_distance_traveled=30)"
   ]
  },
  {
   "cell_type": "code",
   "execution_count": 7,
   "id": "cfd51411-b01d-4c68-8bf0-c800b0260db4",
   "metadata": {},
   "outputs": [
    {
     "data": {
      "text/plain": [
       "'http://127.0.0.1:8787/status'"
      ]
     },
     "execution_count": 7,
     "metadata": {},
     "output_type": "execute_result"
    }
   ],
   "source": [
    "client.dashboard_link"
   ]
  },
  {
   "cell_type": "markdown",
   "id": "e4297b15-436e-4773-aec2-6f4f4ace1c14",
   "metadata": {},
   "source": [
    "### Numba KDE"
   ]
  },
  {
   "cell_type": "code",
   "execution_count": 8,
   "id": "0288bf67-c084-40d5-8bfc-11996191b637",
   "metadata": {},
   "outputs": [
    {
     "name": "stdout",
     "output_type": "stream",
     "text": [
      "19-Sep-21 16:24:52 Cupy is not installed. Required if using gpu state space.\n"
     ]
    }
   ],
   "source": [
    "from replay_trajectory_classification.misc import NumbaKDE\n",
    "from replay_trajectory_classification import ClusterlessClassifier\n",
    "from src.parameters import WTRACK_EDGE_ORDER, WTRACK_EDGE_SPACING\n",
    "\n",
    "import pprint\n",
    "\n",
    "continuous_transition_types = (\n",
    "    [['random_walk', 'uniform'],\n",
    "     ['uniform',     'uniform']])\n",
    "\n",
    "\n",
    "clusterless_algorithm = 'multiunit_likelihood'\n",
    "clusterless_algorithm_params = {\n",
    "    'model': NumbaKDE,\n",
    "    'model_kwargs': {\n",
    "         'bandwidth': np.array([20.0, 20.0, 20.0, 20.0, 8.0]) # amplitude 1, amplitude 2, amplitude 3, amplitude 4, position       \n",
    "    }\n",
    "}\n",
    "\n",
    "classifier_parameters = {\n",
    "    'movement_var': 6.0,\n",
    "    'replay_speed': 1,\n",
    "    'place_bin_size': 2.5,\n",
    "    'continuous_transition_types': continuous_transition_types,\n",
    "    'discrete_transition_diag': 0.968,\n",
    "    'clusterless_algorithm': clusterless_algorithm,\n",
    "    'clusterless_algorithm_params': clusterless_algorithm_params\n",
    "}\n",
    "\n",
    "logging.info(pprint.pprint(classifier_parameters))"
   ]
  },
  {
   "cell_type": "code",
   "execution_count": null,
   "id": "745b2f7a-a003-4cc1-986a-a41822e7e625",
   "metadata": {},
   "outputs": [
    {
     "name": "stdout",
     "output_type": "stream",
     "text": [
      "19-Sep-21 16:24:53 Numba KDE\n",
      "19-Sep-21 16:24:54 Fitting initial conditions...\n",
      "19-Sep-21 16:24:54 Fitting state transition...\n",
      "19-Sep-21 16:24:55 Fitting multiunits...\n",
      "19-Sep-21 16:24:59 Estimating likelihood...\n"
     ]
    }
   ],
   "source": [
    "\n",
    "state_names = ['Continuous', 'Fragmented']\n",
    "\n",
    "classifier = ClusterlessClassifier(**classifier_parameters)\n",
    "classifier.fit(\n",
    "    position=data[\"position_info\"].linear_position,\n",
    "    multiunits=data[\"multiunits\"],\n",
    "    track_graph=data[\"track_graph\"],\n",
    "    edge_order=WTRACK_EDGE_ORDER,\n",
    "    edge_spacing=WTRACK_EDGE_SPACING,\n",
    ")\n",
    "\n",
    "results_numba_kde = classifier.predict(\n",
    "    data[\"multiunits\"],\n",
    "    time=data[\"position_info\"].index / np.timedelta64(1, \"s\"),\n",
    "    state_names=state_names\n",
    ")\n",
    "logging.info('Done...')"
   ]
  },
  {
   "cell_type": "code",
   "execution_count": null,
   "id": "92e1048a-f700-417e-99c5-3e9ace43ab83",
   "metadata": {},
   "outputs": [],
   "source": [
    "client.close()"
   ]
  }
 ],
 "metadata": {
  "kernelspec": {
   "display_name": "Python [conda env:pose_analysis] *",
   "language": "python",
   "name": "conda-env-pose_analysis-py"
  },
  "language_info": {
   "codemirror_mode": {
    "name": "ipython",
    "version": 3
   },
   "file_extension": ".py",
   "mimetype": "text/x-python",
   "name": "python",
   "nbconvert_exporter": "python",
   "pygments_lexer": "ipython3",
   "version": "3.6.13"
  }
 },
 "nbformat": 4,
 "nbformat_minor": 5
}
