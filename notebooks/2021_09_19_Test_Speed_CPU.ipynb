{
 "cells": [
  {
   "cell_type": "code",
   "execution_count": 1,
   "id": "9dc90e85-fe32-40d6-86e3-fd8497d2b049",
   "metadata": {},
   "outputs": [],
   "source": [
    "%matplotlib inline\n",
    "%reload_ext autoreload"
   ]
  },
  {
   "cell_type": "code",
   "execution_count": 2,
   "id": "0182c7cb-fc9d-409b-96d0-8d9ae835cd9e",
   "metadata": {},
   "outputs": [
    {
     "name": "stdout",
     "output_type": "stream",
     "text": [
      "# packages in environment at /home/edeno/miniconda3/envs/pose_analysis:\n",
      "#\n",
      "# Name                    Version                   Build  Channel\n",
      "replay_trajectory_classification 0.9.11.dev0        pyh7b7c402_0    edeno\n",
      "\n",
      "Note: you may need to restart the kernel to use updated packages.\n"
     ]
    }
   ],
   "source": [
    "%conda list replay_trajectory_classification"
   ]
  },
  {
   "cell_type": "code",
   "execution_count": 3,
   "id": "c5783a2e-959e-40ed-89b5-ed2b4d135e40",
   "metadata": {},
   "outputs": [],
   "source": [
    "import matplotlib.pyplot as plt\n",
    "import numpy as np\n",
    "import xarray as xr\n",
    "import seaborn as sns\n",
    "import logging\n",
    "\n",
    "import logging\n",
    "import sys\n",
    "\n",
    "def setup_logging(epoch_key, date_format='%d-%b-%y %H:%M:%S', format='%(asctime)s %(message)s'):\n",
    "    animal, day, epoch = epoch_key\n",
    "    log_filename = f\"{animal}_{day:02d}_{epoch:02d}_test_speed_cpu.log\"\n",
    "\n",
    "    logger = logging.getLogger()\n",
    "    logger.setLevel(logging.INFO)\n",
    "    formatter = logging.Formatter(fmt=format, datefmt=date_format)\n",
    "\n",
    "    stdout_handler = logging.StreamHandler(sys.stdout)\n",
    "    stdout_handler.setLevel(logging.INFO)\n",
    "    stdout_handler.setFormatter(formatter)\n",
    "\n",
    "    file_handler = logging.FileHandler(log_filename)\n",
    "    file_handler.setLevel(logging.INFO)\n",
    "    file_handler.setFormatter(formatter)\n",
    "\n",
    "    logger.addHandler(file_handler)\n",
    "    logger.addHandler(stdout_handler)\n",
    "\n",
    "sns.set_context(\"talk\")"
   ]
  },
  {
   "cell_type": "code",
   "execution_count": 4,
   "id": "99e012c8-774c-46f3-a3ac-50e8294e6029",
   "metadata": {},
   "outputs": [],
   "source": [
    "epoch_key = 'Jaq', 3, 12"
   ]
  },
  {
   "cell_type": "code",
   "execution_count": 5,
   "id": "7ece2748-7579-4e99-a696-ed16efe6e205",
   "metadata": {},
   "outputs": [],
   "source": [
    "setup_logging(epoch_key)"
   ]
  },
  {
   "cell_type": "code",
   "execution_count": 6,
   "id": "21e0a18d-ff83-4331-bd31-475da34172e6",
   "metadata": {},
   "outputs": [
    {
     "name": "stdout",
     "output_type": "stream",
     "text": [
      "03-Oct-21 11:10:32 CPU Dask\n",
      "03-Oct-21 11:10:32 Loading position info...\n",
      "03-Oct-21 11:11:05 Loading multiunit...\n",
      "03-Oct-21 11:11:30 Loading spikes...\n",
      "03-Oct-21 11:12:57 Finding ripple times...\n"
     ]
    }
   ],
   "source": [
    "from src.load_data import load_data\n",
    "\n",
    "logging.info('CPU Dask')\n",
    "data = load_data(epoch_key,\n",
    "                 position_to_linearize=['nose_x', 'nose_y'],\n",
    "                 max_distance_from_well=5,\n",
    "                 min_distance_traveled=30)"
   ]
  },
  {
   "cell_type": "markdown",
   "id": "e4e97fd0-2917-4191-992d-a89432c9150e",
   "metadata": {},
   "source": [
    "#### CPU"
   ]
  },
  {
   "cell_type": "code",
   "execution_count": 18,
   "id": "a695cd99-e1d4-45be-8fae-6e182a27b3d9",
   "metadata": {},
   "outputs": [
    {
     "name": "stdout",
     "output_type": "stream",
     "text": [
      "{'clusterless_algorithm': 'multiunit_likelihood_integer',\n",
      " 'clusterless_algorithm_params': {'chunks': (100, 4),\n",
      "                                  'mark_std': 20.0,\n",
      "                                  'position_std': 8.0},\n",
      " 'continuous_transition_types': [['random_walk', 'uniform'],\n",
      "                                 ['uniform', 'uniform']],\n",
      " 'discrete_transition_diag': 0.968,\n",
      " 'movement_var': 6.0,\n",
      " 'place_bin_size': 2.5,\n",
      " 'replay_speed': 1}\n",
      "03-Oct-21 20:54:03 None\n"
     ]
    }
   ],
   "source": [
    "from replay_trajectory_classification import ClusterlessClassifier\n",
    "from src.parameters import WTRACK_EDGE_ORDER, WTRACK_EDGE_SPACING\n",
    "import pprint\n",
    "\n",
    "continuous_transition_types = (\n",
    "    [['random_walk', 'uniform'],\n",
    "     ['uniform',     'uniform']])\n",
    "\n",
    "\n",
    "clusterless_algorithm = 'multiunit_likelihood_integer'\n",
    "clusterless_algorithm_params = {\n",
    "    'mark_std': 20.0,\n",
    "    'position_std': 8.0,\n",
    "    'chunks': (100, 4),\n",
    "}\n",
    "\n",
    "classifier_parameters = {\n",
    "    'movement_var': 6.0,\n",
    "    'replay_speed': 1,\n",
    "    'place_bin_size': 2.5,\n",
    "    'continuous_transition_types': continuous_transition_types,\n",
    "    'discrete_transition_diag': 0.968,\n",
    "    'clusterless_algorithm': clusterless_algorithm,\n",
    "    'clusterless_algorithm_params': clusterless_algorithm_params\n",
    "}\n",
    "\n",
    "logging.info(pprint.pprint(classifier_parameters))"
   ]
  },
  {
   "cell_type": "code",
   "execution_count": 19,
   "id": "54064182-c8a3-4bd6-8234-602da88f1ebc",
   "metadata": {},
   "outputs": [
    {
     "data": {
      "text/html": [
       "<table style=\"border: 2px solid white;\">\n",
       "<tr>\n",
       "<td style=\"vertical-align: top; border: 0px solid white\">\n",
       "<h3 style=\"text-align: left;\">Client</h3>\n",
       "<ul style=\"text-align: left; list-style: none; margin: 0; padding: 0;\">\n",
       "  <li><b>Scheduler: </b>tcp://127.0.0.1:40981</li>\n",
       "  <li><b>Dashboard: </b><a href='http://127.0.0.1:37159/status' target='_blank'>http://127.0.0.1:37159/status</a></li>\n",
       "</ul>\n",
       "</td>\n",
       "<td style=\"vertical-align: top; border: 0px solid white\">\n",
       "<h3 style=\"text-align: left;\">Cluster</h3>\n",
       "<ul style=\"text-align: left; list-style:none; margin: 0; padding: 0;\">\n",
       "  <li><b>Workers: </b>8</li>\n",
       "  <li><b>Cores: </b>64</li>\n",
       "  <li><b>Memory: </b>1.62 TB</li>\n",
       "</ul>\n",
       "</td>\n",
       "</tr>\n",
       "</table>"
      ],
      "text/plain": [
       "<Client: 'tcp://127.0.0.1:40981' processes=8 threads=64, memory=1.62 TB>"
      ]
     },
     "execution_count": 19,
     "metadata": {},
     "output_type": "execute_result"
    }
   ],
   "source": [
    "from dask.distributed import Client\n",
    "\n",
    "# for virga\n",
    "client = Client(n_workers=8, threads_per_worker=8, processes=True)\n",
    "\n",
    "client"
   ]
  },
  {
   "cell_type": "code",
   "execution_count": 21,
   "id": "6b93a02d-886c-4914-9f0a-beafb6d29cfe",
   "metadata": {},
   "outputs": [
    {
     "name": "stdout",
     "output_type": "stream",
     "text": [
      "03-Oct-21 20:54:39 <Client: 'tcp://127.0.0.1:40981' processes=8 threads=64, memory=1.62 TB>\n"
     ]
    }
   ],
   "source": [
    "logging.info(client)"
   ]
  },
  {
   "cell_type": "code",
   "execution_count": null,
   "id": "49af105a-9241-4f8c-9741-a08173bca7e1",
   "metadata": {},
   "outputs": [
    {
     "name": "stdout",
     "output_type": "stream",
     "text": [
      "03-Oct-21 20:54:48 Fitting initial conditions...\n",
      "03-Oct-21 20:54:48 Fitting state transition...\n",
      "03-Oct-21 20:54:49 Fitting multiunits...\n",
      "03-Oct-21 20:55:01 Estimating likelihood...\n"
     ]
    }
   ],
   "source": [
    "state_names = ['Continuous', 'Fragmented']\n",
    "\n",
    "classifier = ClusterlessClassifier(**classifier_parameters)\n",
    "classifier.fit(\n",
    "    position=data[\"position_info\"].linear_position,\n",
    "    multiunits=data[\"multiunits\"],\n",
    "    track_graph=data[\"track_graph\"],\n",
    "    edge_order=WTRACK_EDGE_ORDER,\n",
    "    edge_spacing=WTRACK_EDGE_SPACING,\n",
    ")\n",
    "\n",
    "results = classifier.predict(\n",
    "    data[\"multiunits\"],\n",
    "    time=data[\"position_info\"].index / np.timedelta64(1, \"s\"),\n",
    "    state_names=state_names,\n",
    "    use_gpu=False\n",
    ")\n",
    "logging.info('Done...')"
   ]
  },
  {
   "cell_type": "code",
   "execution_count": null,
   "id": "ef6ea96d-80b5-4529-b1fa-b9a37af99b83",
   "metadata": {},
   "outputs": [],
   "source": [
    "import matplotlib.pyplot as plot\n",
    "\n",
    "time_slice = slice(100_000, 150_000)\n",
    "\n",
    "(results\n",
    " .acausal_posterior\n",
    " .sum('state')\n",
    " .isel(time=time_slice)\n",
    " .plot(x='time', y='position', robust=True, size=10, aspect=2, cmap='bone_r'))\n",
    "\n",
    "plt.scatter(data['position_info'].iloc[time_slice].index / np.timedelta64(1, 's'),\n",
    "         data['position_info'].iloc[time_slice].linear_position,\n",
    "         color='magenta', s=1)"
   ]
  },
  {
   "cell_type": "code",
   "execution_count": 11,
   "id": "2eae1b1e-c02a-4f0c-8787-4217e96b0922",
   "metadata": {},
   "outputs": [
    {
     "data": {
      "text/plain": [
       "ClusterlessClassifier(clusterless_algorithm='multiunit_likelihood_integer',\n",
       "                      clusterless_algorithm_params={'chunks': 1000,\n",
       "                                                    'mark_std': 20.0,\n",
       "                                                    'position_std': 8.0},\n",
       "                      continuous_transition_types=[['random_walk', 'uniform'],\n",
       "                                                   ['uniform', 'uniform']],\n",
       "                      discrete_transition_diag=0.968,\n",
       "                      discrete_transition_type='strong_diagonal',\n",
       "                      infer_track_interior=True,\n",
       "                      initial_conditions_type='uniform_on_track',\n",
       "                      movement_var=6.0, place_bin_size=2.5, position_range=None,\n",
       "                      replay_speed=1)"
      ]
     },
     "execution_count": 11,
     "metadata": {},
     "output_type": "execute_result"
    }
   ],
   "source": [
    "classifier"
   ]
  },
  {
   "cell_type": "code",
   "execution_count": 12,
   "id": "4e4de0d2-7d5c-406f-b83f-d3f91cd68e61",
   "metadata": {},
   "outputs": [
    {
     "data": {
      "text/plain": [
       "80"
      ]
     },
     "execution_count": 12,
     "metadata": {},
     "output_type": "execute_result"
    }
   ],
   "source": [
    "np.arange(10, dtype=np.int64).nbytes"
   ]
  },
  {
   "cell_type": "code",
   "execution_count": null,
   "id": "a3bf4fee-ed9f-4dfa-9242-b7a9b4e416ec",
   "metadata": {},
   "outputs": [],
   "source": []
  }
 ],
 "metadata": {
  "kernelspec": {
   "display_name": "Python [conda env:pose_analysis] *",
   "language": "python",
   "name": "conda-env-pose_analysis-py"
  },
  "language_info": {
   "codemirror_mode": {
    "name": "ipython",
    "version": 3
   },
   "file_extension": ".py",
   "mimetype": "text/x-python",
   "name": "python",
   "nbconvert_exporter": "python",
   "pygments_lexer": "ipython3",
   "version": "3.6.13"
  }
 },
 "nbformat": 4,
 "nbformat_minor": 5
}
