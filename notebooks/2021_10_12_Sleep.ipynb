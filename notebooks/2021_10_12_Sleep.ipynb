{
 "cells": [
  {
   "cell_type": "code",
   "execution_count": 1,
   "id": "c25dd9bd-bfa6-46e3-979c-7a181e014931",
   "metadata": {},
   "outputs": [],
   "source": [
    "%matplotlib inline\n",
    "%reload_ext autoreload"
   ]
  },
  {
   "cell_type": "code",
   "execution_count": 2,
   "id": "3a71253f-6167-45c2-afe9-4c6f827b06b8",
   "metadata": {},
   "outputs": [],
   "source": [
    "import matplotlib.pyplot as plt\n",
    "import numpy as np\n",
    "import xarray as xr\n",
    "import seaborn as sns\n",
    "import logging\n",
    "\n",
    "FORMAT = '%(asctime)s %(message)s'\n",
    "\n",
    "logging.basicConfig(level='INFO', format=FORMAT, datefmt='%d-%b-%y %H:%M:%S')\n",
    "sns.set_context(\"talk\")"
   ]
  },
  {
   "cell_type": "code",
   "execution_count": 3,
   "id": "c9b4febd-bd16-489c-8b28-83fab3b7aa4c",
   "metadata": {},
   "outputs": [],
   "source": [
    "from src.load_data import get_sleep_and_prev_run_epochs\n",
    "\n",
    "sleep_epoch_keys, prev_run_epoch_keys = get_sleep_and_prev_run_epochs()"
   ]
  },
  {
   "cell_type": "code",
   "execution_count": 4,
   "id": "71554ff7-0c8e-4bbf-b6fd-164e64ceeb6c",
   "metadata": {},
   "outputs": [
    {
     "name": "stderr",
     "output_type": "stream",
     "text": [
      "12-Oct-21 06:10:15 Loading position info...\n",
      "12-Oct-21 06:23:16 Loading multiunit...\n",
      "12-Oct-21 06:25:11 Loading spikes...\n",
      "12-Oct-21 06:26:17 Finding ripple times...\n"
     ]
    }
   ],
   "source": [
    "from src.load_data import load_data\n",
    "\n",
    "prev_run_data = load_data(prev_run_epoch_keys[0])"
   ]
  },
  {
   "cell_type": "code",
   "execution_count": 5,
   "id": "e585e9d9-2167-41c7-b9cd-272a8ad72796",
   "metadata": {},
   "outputs": [
    {
     "name": "stderr",
     "output_type": "stream",
     "text": [
      "12-Oct-21 06:26:55 Loading position info...\n"
     ]
    },
    {
     "ename": "IndexError",
     "evalue": "only integers, slices (`:`), ellipsis (`...`), numpy.newaxis (`None`) and integer or boolean arrays are valid indices",
     "output_type": "error",
     "traceback": [
      "\u001b[0;31m---------------------------------------------------------------------------\u001b[0m",
      "\u001b[0;31mIndexError\u001b[0m                                Traceback (most recent call last)",
      "\u001b[0;32m<ipython-input-5-b2ff3701eb96>\u001b[0m in \u001b[0;36m<module>\u001b[0;34m\u001b[0m\n\u001b[1;32m      1\u001b[0m \u001b[0;32mfrom\u001b[0m \u001b[0msrc\u001b[0m\u001b[0;34m.\u001b[0m\u001b[0mload_data\u001b[0m \u001b[0;32mimport\u001b[0m \u001b[0mload_data\u001b[0m\u001b[0;34m\u001b[0m\u001b[0;34m\u001b[0m\u001b[0m\n\u001b[1;32m      2\u001b[0m \u001b[0;34m\u001b[0m\u001b[0m\n\u001b[0;32m----> 3\u001b[0;31m \u001b[0msleep_data\u001b[0m \u001b[0;34m=\u001b[0m \u001b[0mload_data\u001b[0m\u001b[0;34m(\u001b[0m\u001b[0msleep_epoch_keys\u001b[0m\u001b[0;34m[\u001b[0m\u001b[0;36m0\u001b[0m\u001b[0;34m]\u001b[0m\u001b[0;34m)\u001b[0m\u001b[0;34m\u001b[0m\u001b[0;34m\u001b[0m\u001b[0m\n\u001b[0m",
      "\u001b[0;32m/stelmo/edeno/pose_analysis/src/load_data.py\u001b[0m in \u001b[0;36mload_data\u001b[0;34m(epoch_key, position_to_linearize, max_distance_from_well, min_distance_traveled)\u001b[0m\n\u001b[1;32m    286\u001b[0m         \u001b[0mmin_distance_traveled\u001b[0m\u001b[0;34m=\u001b[0m\u001b[0mmin_distance_traveled\u001b[0m\u001b[0;34m,\u001b[0m\u001b[0;34m\u001b[0m\u001b[0;34m\u001b[0m\u001b[0m\n\u001b[1;32m    287\u001b[0m         \u001b[0medge_order\u001b[0m\u001b[0;34m=\u001b[0m\u001b[0medge_order\u001b[0m\u001b[0;34m,\u001b[0m\u001b[0;34m\u001b[0m\u001b[0;34m\u001b[0m\u001b[0m\n\u001b[0;32m--> 288\u001b[0;31m         \u001b[0medge_spacing\u001b[0m\u001b[0;34m=\u001b[0m\u001b[0medge_spacing\u001b[0m\u001b[0;34m,\u001b[0m\u001b[0;34m\u001b[0m\u001b[0;34m\u001b[0m\u001b[0m\n\u001b[0m\u001b[1;32m    289\u001b[0m     ).dropna(subset=[\"linear_position\"])\n\u001b[1;32m    290\u001b[0m     tetrode_info = make_tetrode_dataframe(\n",
      "\u001b[0;32m/stelmo/edeno/pose_analysis/src/load_data.py\u001b[0m in \u001b[0;36mget_interpolated_position_info\u001b[0;34m(epoch_key, position_to_linearize, max_distance_from_well, min_distance_traveled, route_euclidean_distance_scaling, sensor_std_dev, diagonal_bias, edge_order, edge_spacing)\u001b[0m\n\u001b[1;32m    447\u001b[0m         edge_spacing=WTRACK_EDGE_SPACING):\n\u001b[1;32m    448\u001b[0m     position_info = get_position_info(\n\u001b[0;32m--> 449\u001b[0;31m         epoch_key, skip_linearization=True)\n\u001b[0m\u001b[1;32m    450\u001b[0m     \u001b[0mposition_info\u001b[0m \u001b[0;34m=\u001b[0m \u001b[0mposition_info\u001b[0m\u001b[0;34m.\u001b[0m\u001b[0mresample\u001b[0m\u001b[0;34m(\u001b[0m\u001b[0;34m'2ms'\u001b[0m\u001b[0;34m)\u001b[0m\u001b[0;34m.\u001b[0m\u001b[0mmean\u001b[0m\u001b[0;34m(\u001b[0m\u001b[0;34m)\u001b[0m\u001b[0;34m.\u001b[0m\u001b[0minterpolate\u001b[0m\u001b[0;34m(\u001b[0m\u001b[0;34m'linear'\u001b[0m\u001b[0;34m)\u001b[0m\u001b[0;34m\u001b[0m\u001b[0;34m\u001b[0m\u001b[0m\n\u001b[1;32m    451\u001b[0m \u001b[0;34m\u001b[0m\u001b[0m\n",
      "\u001b[0;32m/stelmo/edeno/pose_analysis/src/load_data.py\u001b[0m in \u001b[0;36mget_position_info\u001b[0;34m(epoch_key, position_to_linearize, max_distance_from_well, min_distance_traveled, skip_linearization, route_euclidean_distance_scaling, sensor_std_dev, diagonal_bias, position_sampling_frequency, edge_order, edge_spacing)\u001b[0m\n\u001b[1;32m    422\u001b[0m         \u001b[0medge_order\u001b[0m\u001b[0;34m=\u001b[0m\u001b[0mWTRACK_EDGE_ORDER\u001b[0m\u001b[0;34m,\u001b[0m \u001b[0medge_spacing\u001b[0m\u001b[0;34m=\u001b[0m\u001b[0mWTRACK_EDGE_SPACING\u001b[0m\u001b[0;34m\u001b[0m\u001b[0;34m\u001b[0m\u001b[0m\n\u001b[1;32m    423\u001b[0m ):\n\u001b[0;32m--> 424\u001b[0;31m     \u001b[0mposition_df\u001b[0m \u001b[0;34m=\u001b[0m \u001b[0m_get_pos_dataframe\u001b[0m\u001b[0;34m(\u001b[0m\u001b[0mepoch_key\u001b[0m\u001b[0;34m,\u001b[0m \u001b[0mANIMALS\u001b[0m\u001b[0;34m)\u001b[0m\u001b[0;34m\u001b[0m\u001b[0;34m\u001b[0m\u001b[0m\n\u001b[0m\u001b[1;32m    425\u001b[0m \u001b[0;34m\u001b[0m\u001b[0m\n\u001b[1;32m    426\u001b[0m     \u001b[0;32mif\u001b[0m \u001b[0;32mnot\u001b[0m \u001b[0mskip_linearization\u001b[0m\u001b[0;34m:\u001b[0m\u001b[0;34m\u001b[0m\u001b[0;34m\u001b[0m\u001b[0m\n",
      "\u001b[0;32m/stelmo/edeno/pose_analysis/src/load_data.py\u001b[0m in \u001b[0;36m_get_pos_dataframe\u001b[0;34m(epoch_key, animals)\u001b[0m\n\u001b[1;32m    343\u001b[0m     struct = get_data_structure(\n\u001b[1;32m    344\u001b[0m         animals[animal], day, 'posdlc', 'posdlc')[epoch - 1]\n\u001b[0;32m--> 345\u001b[0;31m     \u001b[0mposition_data\u001b[0m \u001b[0;34m=\u001b[0m \u001b[0mstruct\u001b[0m\u001b[0;34m[\u001b[0m\u001b[0;34m'data'\u001b[0m\u001b[0;34m]\u001b[0m\u001b[0;34m[\u001b[0m\u001b[0;36m0\u001b[0m\u001b[0;34m,\u001b[0m \u001b[0;36m0\u001b[0m\u001b[0;34m]\u001b[0m\u001b[0;34m\u001b[0m\u001b[0;34m\u001b[0m\u001b[0m\n\u001b[0m\u001b[1;32m    346\u001b[0m     \u001b[0mfield_names\u001b[0m \u001b[0;34m=\u001b[0m \u001b[0mstruct\u001b[0m\u001b[0;34m[\u001b[0m\u001b[0;34m'fields'\u001b[0m\u001b[0;34m]\u001b[0m\u001b[0;34m[\u001b[0m\u001b[0;36m0\u001b[0m\u001b[0;34m,\u001b[0m \u001b[0;36m0\u001b[0m\u001b[0;34m]\u001b[0m\u001b[0;34m[\u001b[0m\u001b[0;36m0\u001b[0m\u001b[0;34m]\u001b[0m\u001b[0;34m.\u001b[0m\u001b[0msplit\u001b[0m\u001b[0;34m(\u001b[0m\u001b[0;34m)\u001b[0m\u001b[0;34m\u001b[0m\u001b[0;34m\u001b[0m\u001b[0m\n\u001b[1;32m    347\u001b[0m     time = pd.TimedeltaIndex(\n",
      "\u001b[0;31mIndexError\u001b[0m: only integers, slices (`:`), ellipsis (`...`), numpy.newaxis (`None`) and integer or boolean arrays are valid indices"
     ]
    }
   ],
   "source": [
    "from src.load_data import load_data\n",
    "\n",
    "sleep_data = load_data(sleep_epoch_keys[0])"
   ]
  },
  {
   "cell_type": "code",
   "execution_count": 6,
   "id": "ec2a1115-21b4-443f-bf0d-0b5ba87946df",
   "metadata": {},
   "outputs": [
    {
     "name": "stdout",
     "output_type": "stream",
     "text": [
      "> \u001b[0;32m/stelmo/edeno/pose_analysis/src/load_data.py\u001b[0m(345)\u001b[0;36m_get_pos_dataframe\u001b[0;34m()\u001b[0m\n",
      "\u001b[0;32m    343 \u001b[0;31m    struct = get_data_structure(\n",
      "\u001b[0m\u001b[0;32m    344 \u001b[0;31m        animals[animal], day, 'posdlc', 'posdlc')[epoch - 1]\n",
      "\u001b[0m\u001b[0;32m--> 345 \u001b[0;31m    \u001b[0mposition_data\u001b[0m \u001b[0;34m=\u001b[0m \u001b[0mstruct\u001b[0m\u001b[0;34m[\u001b[0m\u001b[0;34m'data'\u001b[0m\u001b[0;34m]\u001b[0m\u001b[0;34m[\u001b[0m\u001b[0;36m0\u001b[0m\u001b[0;34m,\u001b[0m \u001b[0;36m0\u001b[0m\u001b[0;34m]\u001b[0m\u001b[0;34m\u001b[0m\u001b[0;34m\u001b[0m\u001b[0m\n",
      "\u001b[0m\u001b[0;32m    346 \u001b[0;31m    \u001b[0mfield_names\u001b[0m \u001b[0;34m=\u001b[0m \u001b[0mstruct\u001b[0m\u001b[0;34m[\u001b[0m\u001b[0;34m'fields'\u001b[0m\u001b[0;34m]\u001b[0m\u001b[0;34m[\u001b[0m\u001b[0;36m0\u001b[0m\u001b[0;34m,\u001b[0m \u001b[0;36m0\u001b[0m\u001b[0;34m]\u001b[0m\u001b[0;34m[\u001b[0m\u001b[0;36m0\u001b[0m\u001b[0;34m]\u001b[0m\u001b[0;34m.\u001b[0m\u001b[0msplit\u001b[0m\u001b[0;34m(\u001b[0m\u001b[0;34m)\u001b[0m\u001b[0;34m\u001b[0m\u001b[0;34m\u001b[0m\u001b[0m\n",
      "\u001b[0m\u001b[0;32m    347 \u001b[0;31m    time = pd.TimedeltaIndex(\n",
      "\u001b[0m\n"
     ]
    },
    {
     "name": "stdin",
     "output_type": "stream",
     "text": [
      "ipdb>  struct['data']\n"
     ]
    },
    {
     "name": "stdout",
     "output_type": "stream",
     "text": [
      "*** IndexError: only integers, slices (`:`), ellipsis (`...`), numpy.newaxis (`None`) and integer or boolean arrays are valid indices\n"
     ]
    },
    {
     "name": "stdin",
     "output_type": "stream",
     "text": [
      "ipdb>  struct\n"
     ]
    },
    {
     "name": "stdout",
     "output_type": "stream",
     "text": [
      "array([], shape=(1, 0), dtype=float64)\n"
     ]
    },
    {
     "name": "stdin",
     "output_type": "stream",
     "text": [
      "ipdb>  q\n"
     ]
    }
   ],
   "source": [
    "%debug"
   ]
  },
  {
   "cell_type": "code",
   "execution_count": null,
   "id": "d4e97b50-13b8-4a18-a0d8-a5886ed102f3",
   "metadata": {},
   "outputs": [],
   "source": [
    "from src.parameters import (ANIMALS, PROCESSED_DATA_DIR, WTRACK_EDGE_ORDER,\n",
    "                            WTRACK_EDGE_SPACING)\n",
    "\n",
    "continuous_transition_types = [['random_walk_direction2', 'random_walk',            'uniform', 'random_walk',            'random_walk',            'uniform'],  # noqa\n",
    "                               ['random_walk',            'random_walk_direction1', 'uniform', 'random_walk',            'random_walk',            'uniform'],  # noqa\n",
    "                               ['uniform',                'uniform',                'uniform', 'uniform',                'uniform',                'uniform'],  # noqa\n",
    "                               ['random_walk',            'random_walk',            'uniform', 'random_walk_direction1', 'random_walk',            'uniform'],  # noqa\n",
    "                               ['random_walk',            'random_walk',            'uniform', 'random_walk',            'random_walk_direction2', 'uniform'],  # noqa\n",
    "                               ['uniform',                'uniform',                'uniform', 'uniform',                'uniform',                'uniform'],  # noqa\n",
    "                               ]\n",
    "encoding_group_to_state = ['Inbound', 'Inbound', 'Inbound',\n",
    "                           'Outbound', 'Outbound', 'Outbound']\n",
    "\n",
    "clusterless_algorithm = 'multiunit_likelihood_gpu'\n",
    "clusterless_algorithm_params = {\n",
    "    'mark_std': 20.0,\n",
    "    'position_std': 8.0,\n",
    "}\n",
    "\n",
    "classifier_parameters = {\n",
    "    'movement_var': 6.0,\n",
    "    'replay_speed': 1,\n",
    "    'place_bin_size': 2.0,\n",
    "    'continuous_transition_types': continuous_transition_types,\n",
    "    'discrete_transition_diag': 0.968,\n",
    "    'clusterless_algorithm': clusterless_algorithm,\n",
    "    'clusterless_algorithm_params': clusterless_algorithm_params\n",
    "}\n",
    "\n",
    "state_names = [\n",
    "    'Inbound-Forward', 'Inbound-Reverse', 'Inbound-Fragmented',\n",
    "    'Outbound-Forward', 'Outbound-Reverse', 'Outbound-Fragmented']"
   ]
  },
  {
   "cell_type": "code",
   "execution_count": null,
   "id": "9c83a0fc-dfcd-4eef-95d7-9d35caac22f7",
   "metadata": {},
   "outputs": [],
   "source": [
    "classifier.fit(\n",
    "    position=prev_run_data[\"position_info\"].linear_position,\n",
    "    multiunits=prev_run_data[\"multiunits\"]\n",
    "    is_training=pd.notnull(prev_run_data[\"position_info\"].task),\n",
    "    track_graph=prev_run_data[\"track_graph\"],\n",
    "    edge_order=WTRACK_EDGE_ORDER,\n",
    "    edge_spacing=WTRACK_EDGE_SPACING,\n",
    "    encoding_group_labels=np.asarray(\n",
    "        prev_run_data[\"position_info\"].task).astype(str),\n",
    "    encoding_group_to_state=encoding_group_to_state\n",
    ")"
   ]
  },
  {
   "cell_type": "code",
   "execution_count": null,
   "id": "dbe36c43-58d5-4f5f-be47-0ac5ae0d6539",
   "metadata": {},
   "outputs": [],
   "source": [
    "ripple_number = 1\n",
    "\n",
    "start_time = sleep_data['ripple_times'].loc[ripple_number].start_time\n",
    "end_time = sleep_data['ripple_times'].loc[ripple_number].end_time\n",
    "\n",
    "results = classifier.predict(\n",
    "    multiunits=sleep_data['multiunits'].sel(time=slice(start_time, end_time)),\n",
    "    time=sleep_data['multiunits'].sel(time=slice(start_time, end_time)).time / np.timedelta64(1, 's'),\n",
    "    state_names=state_names\n",
    "    )"
   ]
  }
 ],
 "metadata": {
  "kernelspec": {
   "display_name": "Python [conda env:pose_analysis] *",
   "language": "python",
   "name": "conda-env-pose_analysis-py"
  },
  "language_info": {
   "codemirror_mode": {
    "name": "ipython",
    "version": 3
   },
   "file_extension": ".py",
   "mimetype": "text/x-python",
   "name": "python",
   "nbconvert_exporter": "python",
   "pygments_lexer": "ipython3",
   "version": "3.6.13"
  }
 },
 "nbformat": 4,
 "nbformat_minor": 5
}
