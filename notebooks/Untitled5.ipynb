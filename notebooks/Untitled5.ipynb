{
 "cells": [
  {
   "cell_type": "code",
   "execution_count": 1,
   "id": "7bfdd074-12e0-4dc1-be4b-4ec2599423df",
   "metadata": {},
   "outputs": [],
   "source": [
    "%matplotlib inline\n",
    "%reload_ext autoreload"
   ]
  },
  {
   "cell_type": "code",
   "execution_count": 2,
   "id": "62c7ffcb-89cf-4a5d-8785-d42e334b6041",
   "metadata": {},
   "outputs": [],
   "source": [
    "import matplotlib.pyplot as plt\n",
    "import numpy as np\n",
    "import xarray as xr\n",
    "import seaborn as sns\n",
    "import logging\n",
    "\n",
    "FORMAT = \"%(asctime)s %(message)s\"\n",
    "\n",
    "logging.basicConfig(level=\"INFO\", format=FORMAT, datefmt=\"%d-%b-%y %H:%M:%S\")\n",
    "sns.set_context(\"talk\")"
   ]
  },
  {
   "cell_type": "code",
   "execution_count": 3,
   "id": "d0c09f14-67ab-46f4-a188-83ac14c9fd0c",
   "metadata": {},
   "outputs": [],
   "source": [
    "epoch_key = 'Jaq', 3, 12"
   ]
  },
  {
   "cell_type": "code",
   "execution_count": 4,
   "id": "79fc883f-33d8-4f54-9599-19f2a579001e",
   "metadata": {},
   "outputs": [
    {
     "name": "stderr",
     "output_type": "stream",
     "text": [
      "09-Feb-22 14:10:08 Loading position info...\n",
      "09-Feb-22 14:10:58 Loading multiunit...\n",
      "09-Feb-22 14:11:18 Loading spikes...\n",
      "09-Feb-22 14:11:24 Finding ripple times...\n"
     ]
    }
   ],
   "source": [
    "from src.load_data import load_data\n",
    "\n",
    "\n",
    "data = load_data(epoch_key,\n",
    "                 position_to_linearize=['nose_x', 'nose_y'],\n",
    "                 max_distance_from_well=30,\n",
    "                 min_distance_traveled=50,\n",
    "                 )"
   ]
  },
  {
   "cell_type": "code",
   "execution_count": 5,
   "id": "edd6c188-e977-4431-a671-6c3f2e0cbb4e",
   "metadata": {},
   "outputs": [],
   "source": [
    "import numpy as np\n",
    "\n",
    "detector_parameters = {\n",
    "    'movement_var': 6.0,\n",
    "    'replay_speed': 1,\n",
    "    'place_bin_size': 2.5,\n",
    "    'spike_model_knot_spacing': 8.0,\n",
    "    'spike_model_penalty': 0.5,\n",
    "    'movement_state_transition_type': 'random_walk',\n",
    "    'multiunit_model_kwargs': {\n",
    "        'bandwidth': np.array([20.0, 20.0, 20.0, 20.0, 8.0])},\n",
    "    'multiunit_occupancy_kwargs': {'bandwidth': np.array([8.0])},\n",
    "    'discrete_state_transition_type': 'constant',\n",
    "    'discrete_diagonal': np.array([0.00003, 0.968])\n",
    "}"
   ]
  },
  {
   "cell_type": "code",
   "execution_count": null,
   "id": "0425c491-ac9b-4215-b0e3-57972dacacbb",
   "metadata": {},
   "outputs": [
    {
     "name": "stderr",
     "output_type": "stream",
     "text": [
      "09-Feb-22 14:12:03 ReplayDetector(discrete_diagonal=array([3.00e-05, 9.68e-01]),\n",
      "               discrete_state_transition_type='constant',\n",
      "               infer_track_interior=True, is_track_interior=None,\n",
      "               lfp_model=<class 'sklearn.mixture._bayesian_mixture.BayesianGaussianMixture'>,\n",
      "               lfp_model_kwargs={'max_iter': 200, 'n_components': 1,\n",
      "                                 'tol': 1e-06},\n",
      "               movement_state_transition_type='random_walk', movement_var=6...\n",
      "               multiunit_model_kwargs={'bandwidth': array([20., 20., 20., 20.,  8.])},\n",
      "               multiunit_occupancy_kwargs={'bandwidth': array([8.])},\n",
      "               multiunit_occupancy_model=<class 'replay_identification.multiunit_likelihood.NumbaKDE'>,\n",
      "               place_bin_size=2.5, position_range=None, replay_speed=1,\n",
      "               replay_state_transition_penalty=1e-05, speed_knots=None,\n",
      "               speed_threshold=4.0, spike_model_knot_spacing=8.0,\n",
      "               spike_model_penalty=0.5)\n",
      "09-Feb-22 14:12:04 Fitting speed model...\n",
      "09-Feb-22 14:12:05 Fitting multiunit model...\n"
     ]
    },
    {
     "data": {
      "application/vnd.jupyter.widget-view+json": {
       "model_id": "31d66cadb109481b8e5ba084f474b548",
       "version_major": 2,
       "version_minor": 0
      },
      "text/plain": [
       "electrodes:   0%|          | 0/28 [00:00<?, ?it/s]"
      ]
     },
     "metadata": {},
     "output_type": "display_data"
    },
    {
     "name": "stderr",
     "output_type": "stream",
     "text": [
      "09-Feb-22 14:12:07 Fitting replay movement state transition...\n",
      "09-Feb-22 14:12:07 Fitting replay state transition...\n",
      "09-Feb-22 14:12:07 Predicting multiunit likelihood...\n"
     ]
    },
    {
     "data": {
      "application/vnd.jupyter.widget-view+json": {
       "model_id": "ce6618791c824f9f9960e3fdb254050b",
       "version_major": 2,
       "version_minor": 0
      },
      "text/plain": [
       "electrodes:   0%|          | 0/28 [00:00<?, ?it/s]"
      ]
     },
     "metadata": {},
     "output_type": "display_data"
    }
   ],
   "source": [
    "from replay_identification import ReplayDetector\n",
    "from src.parameters import WTRACK_EDGE_ORDER, WTRACK_EDGE_SPACING\n",
    "\n",
    "\n",
    "replay_detector3 = ReplayDetector(**detector_parameters)\n",
    "logging.info(replay_detector3)\n",
    "\n",
    "replay_detector3.fit(\n",
    "    is_ripple=data['is_ripple'],\n",
    "    is_training=~data['is_ripple'].values.squeeze(),\n",
    "    speed=data['position_info'].nose_vel,\n",
    "    position=data['position_info'].linear_position,\n",
    "    multiunit=data['multiunits'],\n",
    "    track_graph=data['track_graph'],\n",
    "    edge_order=WTRACK_EDGE_ORDER,\n",
    "    edge_spacing=WTRACK_EDGE_SPACING,\n",
    "    use_gpu=False,\n",
    ")\n",
    "\n",
    "detector_results3 = replay_detector3.predict(\n",
    "    speed=data['position_info'].nose_vel,\n",
    "    multiunit=data['multiunits'],\n",
    "    position=data['position_info'].linear_position,\n",
    "    time=data['position_info'].index / np.timedelta64(1, 's'),\n",
    "    use_likelihoods=['multiunit'],\n",
    "    use_acausal=True,\n",
    "    set_no_spike_to_equally_likely=True,\n",
    "    use_gpu=False,\n",
    ")\n",
    "logging.info('Done!')"
   ]
  },
  {
   "cell_type": "code",
   "execution_count": null,
   "id": "5a09bb61-3442-4a01-a283-d2384d91c605",
   "metadata": {},
   "outputs": [],
   "source": [
    "import matplotlib.pyplot as plt\n",
    "import seaborn as sns\n",
    "import copy\n",
    "\n",
    "from scipy.stats import zscore\n",
    "\n",
    "\n",
    "def plot_detector(time_ind, data, replay_detector, detector_results,\n",
    "                  figsize=(11, 6.0)):\n",
    "    fig, axes = plt.subplots(6, 1,\n",
    "                             figsize=figsize,\n",
    "                             sharex=True,\n",
    "                             constrained_layout=True,\n",
    "                             gridspec_kw={\n",
    "                                 'height_ratios': [1, 1, 3, 1, 3, 1]},\n",
    "                            dpi=100)\n",
    "    time = data['spikes'].iloc[time_ind].index / np.timedelta64(1, 's')\n",
    "    \n",
    "    # axes 0\n",
    "    # max_consensus = np.ceil(zscore(data['ripple_consensus_trace'], nan_policy='omit').values.max()).astype(int)\n",
    "    start_time = data['spikes'].iloc[time_ind].index.min()\n",
    "    end_time = data['spikes'].iloc[time_ind].index.max()\n",
    "    ripple_consensus_trace = zscore(data['ripple_consensus_trace'], nan_policy='omit').loc[start_time:end_time]\n",
    "    \n",
    "    max_consensus = max(int(np.ceil(ripple_consensus_trace.max())), 5)\n",
    "    min_consensus = min(int(np.ceil(ripple_consensus_trace.min())), -1)\n",
    "    ripple_consensus_trace_time = ripple_consensus_trace.index / np.timedelta64(1, 's')\n",
    "    \n",
    "    axes[0].fill_between(\n",
    "        time, np.ones_like(time) * max_consensus,\n",
    "        where=data['ripple_labels'].iloc[time_ind].values.squeeze() > 0,\n",
    "        color='red', zorder=-2, alpha=0.6, step='pre')\n",
    "    axes[0].fill_between(\n",
    "        ripple_consensus_trace_time,\n",
    "        ripple_consensus_trace.values.squeeze(), color='black')\n",
    "    axes[0].set_ylim((min_consensus, max_consensus))\n",
    "    axes[0].set_yticks((min_consensus, max_consensus))\n",
    "    axes[0].set_ylabel(\"Ripple\\nStd.\")\n",
    "    \n",
    "    # axes 1\n",
    "    multiunit_firing = (\n",
    "        data[\"multiunit_firing_rate\"]\n",
    "        .reset_index(drop=True)\n",
    "        .set_index(\n",
    "            data[\"multiunit_firing_rate\"].index / np.timedelta64(1, \"s\"))\n",
    "    )\n",
    "    max_multiunit = np.ceil(data[\"multiunit_firing_rate\"].values.max()).astype(int)\n",
    "    axes[1].fill_between(\n",
    "        multiunit_firing.iloc[time_ind].index.values,\n",
    "        multiunit_firing.iloc[time_ind].values.squeeze(),\n",
    "        color=\"black\",\n",
    "    )\n",
    "    axes[1].fill_between(\n",
    "        time, np.ones_like(time) * max_multiunit,\n",
    "        where=data[\"multiunit_high_synchrony_labels\"].iloc[time_ind].values.squeeze() > 0,\n",
    "        color='blue', zorder=-2, alpha=0.6, step='pre')\n",
    "    axes[1].set_ylim((0, max_multiunit))\n",
    "    axes[1].set_yticks((0, max_multiunit))\n",
    "    axes[1].set_ylabel(\"Multiunit\\nRate\\n[spikes / s]\")\n",
    "\n",
    "    # axes 2\n",
    "    try:\n",
    "        place_fields = (\n",
    "            replay_detector._spiking_likelihood\n",
    "            .keywords['place_conditional_intensity']).squeeze()\n",
    "        n_neurons = place_fields.shape[1]\n",
    "        place_field_max = np.nanargmax(place_fields, axis=0)\n",
    "        linear_position_order = place_field_max.argsort(axis=0).squeeze()\n",
    "        spike_time_ind, neuron_ind = np.nonzero(\n",
    "            np.asarray(data['spikes'].iloc[time_ind])[:, linear_position_order])\n",
    "        axes[2].set_ylabel('Cells')\n",
    "    except AttributeError:\n",
    "        spike_time_ind, neuron_ind = np.nonzero(np.any(~np.isnan(\n",
    "            data['multiunits'].isel(time=time_ind)), axis=1).values)\n",
    "        n_neurons = data['multiunits'].shape[-1]\n",
    "        axes[2].set_ylabel('Tetrodes')\n",
    "\n",
    "    axes[2].scatter(time[spike_time_ind], neuron_ind,\n",
    "                    clip_on=False, s=10, color='black', marker='|', rasterized=True)\n",
    "    axes[2].set_ylim((0, n_neurons))\n",
    "    axes[2].set_yticks((0, n_neurons))\n",
    "    axes[2].fill_between(\n",
    "        time, np.ones_like(time) * n_neurons,\n",
    "        where=detector_results.isel(time=time_ind).non_local_probability >= 0.80,\n",
    "        color='green', zorder=-1, alpha=0.6, step='pre')\n",
    "    \n",
    "    # axes 3\n",
    "    detector_results.isel(time=time_ind).non_local_probability.plot(\n",
    "        x='time', ax=axes[3], color='black', clip_on=False)\n",
    "    axes[3].set_ylabel('Prob.')\n",
    "    axes[3].set_xlabel(\"\")\n",
    "    axes[3].set_ylim((0, 1))\n",
    "\n",
    "    cmap = copy.copy(plt.get_cmap('bone_r'))\n",
    "    cmap.set_bad(color=\"lightgrey\", alpha=1.0)\n",
    "\n",
    "    # axes 4\n",
    "    (detector_results\n",
    "     .isel(time=time_ind)\n",
    "     .acausal_posterior\n",
    "     .sum('state')\n",
    "     .where(replay_detector.is_track_interior_)\n",
    "     .plot(x='time', y='position', ax=axes[4], cmap=cmap,\n",
    "           vmin=0.0, vmax=0.05))\n",
    "    axes[4].scatter(data['position_info'].iloc[time_ind].index /\n",
    "                    np.timedelta64(1, 's'),\n",
    "                    data['position_info'].iloc[time_ind].linear_position,\n",
    "                    s=1,\n",
    "                    color='magenta', clip_on=False)\n",
    "    axes[4].set_xlabel(\"\")\n",
    "    max_position = np.ceil(data['position_info'].linear_position.max()).astype(int)\n",
    "    axes[4].set_yticks((0.0, max_position))\n",
    "    axes[4].set_ylim((0.0, max_position))\n",
    "    axes[4].set_ylabel('Position [cm]')\n",
    "    \n",
    "    # axes 5\n",
    "    speed = np.asarray(data['position_info'].iloc[time_ind].nose_vel).squeeze()\n",
    "    max_speed = np.ceil(speed.max()).astype(int)\n",
    "    max_speed = max(5, max_speed)\n",
    "    axes[5].fill_between(time, speed, color='grey')\n",
    "    axes[5].axhline(4, color='black', linestyle='--', linewidth=1)\n",
    "    axes[5].set_ylabel('Speed\\n[cm / s]')\n",
    "    axes[5].set_yticks((0.0, max_speed))\n",
    "    axes[5].set_ylim((0.0, max_speed))\n",
    "    \n",
    "    axes[-1].set_xlabel('Time [s]')\n",
    "    axes[-1].xaxis.set_major_formatter(plt.FormatStrFormatter('%.1f'))\n",
    "    sns.despine(offset=5)"
   ]
  },
  {
   "cell_type": "code",
   "execution_count": null,
   "id": "1bf5a222-850e-4360-8bbe-6a9da253c23c",
   "metadata": {},
   "outputs": [],
   "source": [
    "time_slice = slice(22_000, 45_000)\n",
    "plot_detector(time_slice, data, replay_detector3, detector_results3, figsize=(22, 12.0))"
   ]
  },
  {
   "cell_type": "code",
   "execution_count": null,
   "id": "d2eebda0-e602-4dbd-97d6-b3f62d429bb5",
   "metadata": {},
   "outputs": [],
   "source": [
    "detector_parameters4 = {\n",
    "    'movement_var': 6.0,\n",
    "    'replay_speed': 1,\n",
    "    'place_bin_size': 2.5,\n",
    "    'spike_model_knot_spacing': 8.0,\n",
    "    'spike_model_penalty': 0.5,\n",
    "    'movement_state_transition_type': 'random_walk',\n",
    "    'multiunit_model_kwargs': {\n",
    "        'mark_std': 20.0, 'position_std': 8.0, 'block_size': 100},\n",
    "    'discrete_state_transition_type': 'constant',\n",
    "    'discrete_diagonal': np.array([0.00003, 0.968])\n",
    "}\n",
    "\n",
    "from replay_identification import ReplayDetector\n",
    "from src.parameters import WTRACK_EDGE_ORDER, WTRACK_EDGE_SPACING\n",
    "\n",
    "replay_detector4 = ReplayDetector(**detector_parameters4)\n",
    "logging.info(replay_detector4)\n",
    "\n",
    "replay_detector4.fit(\n",
    "    is_ripple=data['is_ripple'],\n",
    "    is_training=~data['is_ripple'].values.squeeze(),\n",
    "    speed=data['position_info'].nose_vel,\n",
    "    position=data['position_info'].linear_position,\n",
    "    multiunit=data['multiunits'],\n",
    "    track_graph=data['track_graph'],\n",
    "    edge_order=WTRACK_EDGE_ORDER,\n",
    "    edge_spacing=WTRACK_EDGE_SPACING,\n",
    "    use_gpu=False,\n",
    "    integer_marks=True,\n",
    ")\n",
    "\n",
    "detector_results4 = replay_detector4.predict(\n",
    "    speed=data['position_info'].nose_vel,\n",
    "    multiunit=data['multiunits'],\n",
    "    position=data['position_info'].linear_position,\n",
    "    time=data['position_info'].index / np.timedelta64(1, 's'),\n",
    "    use_likelihoods=['multiunit'],\n",
    "    use_acausal=True,\n",
    "    set_no_spike_to_equally_likely=True,\n",
    "    use_gpu=False\n",
    ")\n",
    "logging.info('Done!')"
   ]
  },
  {
   "cell_type": "code",
   "execution_count": null,
   "id": "d65ebeb9-ce2f-4964-b2ad-a2fd25ecdcef",
   "metadata": {},
   "outputs": [],
   "source": [
    "time_slice = slice(22_000, 45_000)\n",
    "plot_detector(time_slice, data, replay_detector4, detector_results4, figsize=(22, 12.0))"
   ]
  },
  {
   "cell_type": "code",
   "execution_count": null,
   "id": "24ee45cb-991b-4078-9353-a8cdf754b61e",
   "metadata": {},
   "outputs": [],
   "source": []
  }
 ],
 "metadata": {
  "kernelspec": {
   "display_name": "Python [conda env:pose_analysis] *",
   "language": "python",
   "name": "conda-env-pose_analysis-py"
  },
  "language_info": {
   "codemirror_mode": {
    "name": "ipython",
    "version": 3
   },
   "file_extension": ".py",
   "mimetype": "text/x-python",
   "name": "python",
   "nbconvert_exporter": "python",
   "pygments_lexer": "ipython3",
   "version": "3.8.12"
  }
 },
 "nbformat": 4,
 "nbformat_minor": 5
}
